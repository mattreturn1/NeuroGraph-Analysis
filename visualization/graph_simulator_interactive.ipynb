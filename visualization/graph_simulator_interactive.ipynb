{
 "cells": [
  {
   "metadata": {
    "ExecuteTime": {
     "end_time": "2025-01-06T14:57:15.343397Z",
     "start_time": "2025-01-06T14:57:15.325800Z"
    }
   },
   "cell_type": "code",
   "source": [
    "import pandas as pd\n",
    "import networkx as nx\n",
    "import plotly.graph_objects as go\n",
    "import matplotlib.colors as mcolors\n",
    "import matplotlib.pyplot as plt\n",
    "\n",
    "\n",
    "def visualize_graph_from_files_with_metrics_and_coordinates(coordinates_file, metrics_file, metrics_to_plot,\n",
    "                                                            statistics_to_plot):\n",
    "    \"\"\"\n",
    "    Visualizes an interactive 3D graph using MNI node coordinates and metrics/statistics.\n",
    "\n",
    "    :param coordinates_file: Path to the CSV file with the MNI coordinates of the nodes.\n",
    "    :param metrics_file: Path to the CSV file with the metrics of the nodes.\n",
    "    :param metrics_to_plot: List of metrics to visualize (e.g., ['closeness', 'degree']).\n",
    "    :param statistics_to_plot: List of statistics to visualize (e.g., ['Mean', 'Median']).\n",
    "    \"\"\"\n",
    "    # Load data from both files\n",
    "    coordinates_data = pd.read_csv(coordinates_file)\n",
    "    metrics_data = pd.read_csv(metrics_file)\n",
    "\n",
    "    # Remove extra spaces in column names\n",
    "    coordinates_data.columns = coordinates_data.columns.str.strip()\n",
    "    metrics_data.columns = metrics_data.columns.str.strip()\n",
    "\n",
    "    # Check if 'Node' column and other necessary columns are present\n",
    "    if 'Node' not in coordinates_data.columns or 'Node' not in metrics_data.columns:\n",
    "        raise KeyError(\"'Node' column not found in one of the CSV files.\")\n",
    "\n",
    "    if 'Metric' not in metrics_data.columns:\n",
    "        raise KeyError(\"'Metric' column not found in the metrics CSV file.\")\n",
    "\n",
    "    # Merge the coordinates and metrics data based on the 'Node' column\n",
    "    merged_data = pd.merge(coordinates_data, metrics_data, on='Node', how='inner')\n",
    "\n",
    "    # Function to create a graph with MNI coordinates and metrics\n",
    "    def create_graph_with_metrics_and_coordinates(data):\n",
    "        G = nx.Graph()\n",
    "\n",
    "        # Add nodes with their MNI coordinates and metrics\n",
    "        for _, row in data.iterrows():\n",
    "            node = row['Node']\n",
    "            # Add coordinate and metric data for each node\n",
    "            G.add_node(node, x=row['x.mni'], y=row['y.mni'], z=row['z.mni'],\n",
    "                       metric=row['Metric'], mean=row['Mean'], median=row['Median'], stddev=row['Standard Deviation'])\n",
    "\n",
    "        return G\n",
    "\n",
    "    # Create the graph with coordinates and metrics\n",
    "    G = create_graph_with_metrics_and_coordinates(merged_data)\n",
    "\n",
    "    # Function to visualize the graph interactively in 3D with Plotly\n",
    "    def visualize_graph_by_statistic_interactive(G, metric, statistic, title=\"Graph Visualization\"):\n",
    "        \"\"\"\n",
    "        Visualizes a 3D graph with real positions and colors nodes based on the selected statistic.\n",
    "        \"\"\"\n",
    "        # Get the positions (coordinates) of the nodes\n",
    "        pos = {node: (G.nodes[node]['x'], G.nodes[node]['y'], G.nodes[node]['z']) for node in G.nodes()}\n",
    "\n",
    "        # Extract the values of the selected statistic to color the nodes\n",
    "        values = []\n",
    "        for node in G.nodes():\n",
    "            # Find the value corresponding to the node and selected metric\n",
    "            node_data = merged_data[(merged_data['Node'] == node) & (merged_data['Metric'] == metric)]\n",
    "\n",
    "            # Access the correct value for the selected statistic\n",
    "            if not node_data.empty:\n",
    "                value = node_data[statistic].values[0]  # Directly access the statistic value\n",
    "            else:\n",
    "                value = 0  # Default value in case no data is available\n",
    "            values.append(value)\n",
    "\n",
    "        # Use a vibrant colormap for coloring the nodes\n",
    "        colormap = plt.cm.plasma\n",
    "        norm = mcolors.Normalize(vmin=min(values), vmax=max(values))\n",
    "\n",
    "        # Extract the MNI coordinates of the nodes\n",
    "        x = [pos[i][0] for i in G.nodes()]\n",
    "        y = [pos[i][1] for i in G.nodes()]\n",
    "        z = [pos[i][2] for i in G.nodes()]\n",
    "\n",
    "        # Create the interactive 3D plot for the nodes\n",
    "        trace_nodes = go.Scatter3d(\n",
    "            x=x, y=y, z=z,\n",
    "            mode='markers+text',\n",
    "            text=[str(node) for node in G.nodes()],\n",
    "            textposition=\"top center\",\n",
    "            marker=dict(\n",
    "                size=10,\n",
    "                color=values,\n",
    "                colorscale='plasma',\n",
    "                colorbar=dict(title=f'{metric} ({statistic})')\n",
    "            ),\n",
    "            name=f'Nodes ({metric} - {statistic})'\n",
    "        )\n",
    "\n",
    "        # Create the edges of the graph\n",
    "        edge_x, edge_y, edge_z = [], [], []\n",
    "        for edge in G.edges():\n",
    "            x0, y0, z0 = pos[edge[0]]\n",
    "            x1, y1, z1 = pos[edge[1]]\n",
    "            edge_x.extend([x0, x1, None])\n",
    "            edge_y.extend([y0, y1, None])\n",
    "            edge_z.extend([z0, z1, None])\n",
    "\n",
    "        trace_edges = go.Scatter3d(\n",
    "            x=edge_x, y=edge_y, z=edge_z,\n",
    "            mode='lines',\n",
    "            line=dict(color='black', width=2),\n",
    "            name='Edges'\n",
    "        )\n",
    "\n",
    "        # Set up the layout of the graph\n",
    "        layout = go.Layout(\n",
    "            title=title,\n",
    "            scene=dict(\n",
    "                xaxis=dict(title='X'),\n",
    "                yaxis=dict(title='Y'),\n",
    "                zaxis=dict(title='Z')\n",
    "            ),\n",
    "            showlegend=True\n",
    "        )\n",
    "\n",
    "        # Show the interactive graph\n",
    "        fig = go.Figure(data=[trace_edges, trace_nodes], layout=layout)\n",
    "        fig.show()\n",
    "\n",
    "    # Visualize the graph for each combination of metric and statistic selected\n",
    "    for metric in metrics_to_plot:\n",
    "        for statistic in statistics_to_plot:\n",
    "            visualize_graph_by_statistic_interactive(G, metric=metric, statistic=statistic,\n",
    "                                                     title=f\"Graph Colored by {metric.capitalize()} - {statistic}\")\n"
   ],
   "id": "167fb0a74a7b0e51",
   "outputs": [],
   "execution_count": 5
  },
  {
   "metadata": {
    "ExecuteTime": {
     "end_time": "2025-01-06T14:57:15.500453Z",
     "start_time": "2025-01-06T14:57:15.343397Z"
    }
   },
   "cell_type": "code",
   "source": [
    "# Define the path to the coordinates data file\n",
    "coordinates_file = 'aal116.csv'  # Path to the file with node coordinates\n",
    "metrics_file = '../computing/analysis/ppmi/60_70/comparison/pd/node_differences.csv'  # Path to the file with node metrics\n",
    "metrics_to_plot = ['closeness', 'degree', 'clustering']  # Metrics you want to visualize (e.g., 'closeness', 'degree', 'clustering')\n",
    "statistics_to_plot = ['Mean']  # Statistics you want to visualize (e.g., 'Mean')\n",
    "\n",
    "# Visualize the graph with the selected parameters\n",
    "visualize_graph_from_files_with_metrics_and_coordinates(coordinates_file, metrics_file, metrics_to_plot, statistics_to_plot)"
   ],
   "id": "bcd9773c45943080",
   "outputs": [
    {
     "data": {
      "application/vnd.plotly.v1+json": {
       "data": [
        {
         "line": {
          "color": "black",
          "width": 2
         },
         "mode": "lines",
         "name": "Edges",
         "x": [],
         "y": [],
         "z": [],
         "type": "scatter3d"
        },
        {
         "marker": {
          "color": [
           0.1905899586881598,
           0.1699298570082592,
           0.1455864448360564,
           0.1492957922755351,
           0.081644285812469,
           0.0980552203610491,
           0.1327420427709598,
           0.1374606612596705,
           0.0770541770288697,
           0.1028066330228709,
           0.1402426078903753,
           0.140691422691028,
           0.1515237798307862,
           0.1431802009946237,
           0.0571833284338423,
           0.095472271037329,
           0.0845632746716062,
           0.0921226628924407,
           0.2014910237326341,
           0.2109775158806055,
           0.0587101629833506,
           0.0544220037597662,
           0.1411328444262896,
           0.1316066034957095,
           0.0493763753914098,
           0.040626270242706,
           0.1098945260659955,
           0.0968467462313531,
           0.106975184750347,
           0.0821604937779882,
           0.0683137631342154,
           0.0799633583570087,
           0.1406338735067027,
           0.1352263750497924,
           0.0488434950307474,
           0.047775571054508,
           0.1236122972861477,
           0.1152410037665616,
           0.1100082794918182,
           0.1341403262260341,
           0.0984721210119456,
           0.0983305121303386,
           0.0140192334295321,
           0.0330536727531749,
           0.0446653003490689,
           0.0636643234928802,
           0.0410724894071163,
           0.036058314001252,
           0.0275647106806384,
           0.026393842081275,
           0.0232602872018832,
           0.0178879264330176,
           0.0925993516486323,
           0.135554672715557,
           0.131075223475334,
           0.0914309078276724,
           0.1479222995867528,
           0.1342868594481656,
           0.0846000814922427,
           0.1017322801981579,
           0.0997442654730256,
           0.0690727953959975,
           0.1052456556414567,
           0.0726656294408498,
           0.0760176246905193,
           0.045564949974423,
           0.0711675622244816,
           0.0982520138805842,
           0.1494589963035297,
           0.1893796693831242,
           0.1139629635009444,
           0.1190811015026338,
           0.0795624435585606,
           0.0874356988703954,
           0.0822245624110626,
           0.0627106577485296,
           0.0436519032025328,
           0.0472577038083761,
           0.0977840824662199,
           0.1023457345953136,
           0.1526095188883385,
           0.1292193561250709,
           0.1141945775104935,
           0.0773459789964994,
           0.108071346705536,
           0.0953110542081525,
           0.1638012646578237,
           0.1299190132780088,
           0.1829442798794529,
           0.1520089978725141,
           0.1131224961922707,
           0.1276287716683479,
           0.1872972578822409,
           0.2089166415483196,
           0.0670291362352251,
           0.0587419403381963,
           0.0652026072913407,
           0.0835260040677408,
           0.1090708363801633,
           0.1058258657518831,
           0.1098311944221483,
           0.1314817170369489,
           0.0773721281848447,
           0.077159955589618,
           0.0408481900563015,
           0.0592036252430459,
           0.0976320144139017,
           0.137263695459342,
           0.0805212022728525,
           0.0250109682630199,
           0.0473134260040717,
           0.0888048862152668,
           0.0967469994843199,
           0.0587400721015565,
           0.0277085811042432,
           0.0671874110143211
          ],
          "colorbar": {
           "title": {
            "text": "closeness (Mean)"
           }
          },
          "colorscale": [
           [
            0.0,
            "#0d0887"
           ],
           [
            0.1111111111111111,
            "#46039f"
           ],
           [
            0.2222222222222222,
            "#7201a8"
           ],
           [
            0.3333333333333333,
            "#9c179e"
           ],
           [
            0.4444444444444444,
            "#bd3786"
           ],
           [
            0.5555555555555556,
            "#d8576b"
           ],
           [
            0.6666666666666666,
            "#ed7953"
           ],
           [
            0.7777777777777778,
            "#fb9f3a"
           ],
           [
            0.8888888888888888,
            "#fdca26"
           ],
           [
            1.0,
            "#f0f921"
           ]
          ],
          "size": 10
         },
         "mode": "markers+text",
         "name": "Nodes (closeness - Mean)",
         "text": [
          "1",
          "2",
          "3",
          "4",
          "5",
          "6",
          "7",
          "8",
          "9",
          "10",
          "11",
          "12",
          "13",
          "14",
          "15",
          "16",
          "17",
          "18",
          "19",
          "20",
          "21",
          "22",
          "23",
          "24",
          "25",
          "26",
          "27",
          "28",
          "29",
          "30",
          "31",
          "32",
          "33",
          "34",
          "35",
          "36",
          "37",
          "38",
          "39",
          "40",
          "41",
          "42",
          "43",
          "44",
          "45",
          "46",
          "47",
          "48",
          "49",
          "50",
          "51",
          "52",
          "53",
          "54",
          "55",
          "56",
          "57",
          "58",
          "59",
          "60",
          "61",
          "62",
          "63",
          "64",
          "65",
          "66",
          "67",
          "68",
          "69",
          "70",
          "71",
          "72",
          "73",
          "74",
          "75",
          "76",
          "77",
          "78",
          "79",
          "80",
          "81",
          "82",
          "83",
          "84",
          "85",
          "86",
          "87",
          "88",
          "89",
          "90",
          "91",
          "92",
          "93",
          "94",
          "95",
          "96",
          "97",
          "98",
          "99",
          "100",
          "101",
          "102",
          "103",
          "104",
          "105",
          "106",
          "107",
          "108",
          "109",
          "110",
          "111",
          "112",
          "113",
          "114",
          "115",
          "116"
         ],
         "textposition": "top center",
         "x": [
          -38.65,
          41.37,
          -18.45,
          21.9,
          -16.56,
          18.49,
          -33.43,
          37.59,
          -30.65,
          33.18,
          -48.43,
          50.2,
          -45.58,
          50.33,
          -35.98,
          41.22,
          -47.16,
          52.65,
          -5.32,
          8.62,
          -8.06,
          10.43,
          -4.8,
          9.1,
          -5.17,
          8.16,
          -5.08,
          8.35,
          -35.13,
          39.02,
          -4.04,
          8.46,
          -5.48,
          8.02,
          -4.85,
          7.44,
          -25.03,
          29.23,
          -21.17,
          25.38,
          -23.27,
          27.32,
          -7.14,
          15.99,
          -5.93,
          13.51,
          -14.62,
          16.29,
          -16.54,
          24.29,
          -32.39,
          37.39,
          -36.36,
          38.16,
          -31.16,
          33.97,
          -42.46,
          41.43,
          -23.45,
          26.11,
          -42.8,
          46.46,
          -55.79,
          57.61,
          -44.14,
          45.51,
          -7.24,
          9.98,
          -7.63,
          7.48,
          -11.46,
          14.84,
          -23.91,
          27.78,
          -17.75,
          21.2,
          -10.85,
          13.0,
          -41.99,
          45.86,
          -53.16,
          58.15,
          -39.88,
          48.25,
          -55.52,
          57.47,
          -36.32,
          44.22,
          -49.77,
          53.69,
          -36.067,
          37.456,
          -28.636,
          32.057,
          -8.8004,
          12.319,
          -15.004,
          17.199,
          -23.238,
          24.691,
          -32.358,
          33.139,
          -25.751,
          25.064,
          -10.947,
          9.4602,
          -22.614,
          25.995,
          0.75743,
          1.3804,
          1.2207,
          1.1414,
          1.1458,
          1.1521,
          0.86467,
          0.35584
         ],
         "y": [
          -5.68,
          -8.21,
          34.81,
          31.12,
          47.32,
          48.1,
          32.73,
          33.06,
          50.43,
          52.59,
          12.73,
          14.98,
          29.91,
          30.16,
          30.71,
          32.23,
          -8.48,
          -6.25,
          4.85,
          0.17,
          15.05,
          15.91,
          49.17,
          50.84,
          54.06,
          51.67,
          37.07,
          35.64,
          6.65,
          6.25,
          35.4,
          37.01,
          -14.92,
          -8.83,
          -42.92,
          -41.81,
          -20.74,
          -19.78,
          -15.95,
          -15.15,
          -0.67,
          0.64,
          -78.67,
          -73.15,
          -80.13,
          -79.36,
          -67.56,
          -66.93,
          -84.26,
          -80.85,
          -80.73,
          -79.7,
          -78.29,
          -81.99,
          -40.3,
          -39.1,
          -22.63,
          -25.49,
          -59.56,
          -59.18,
          -45.82,
          -46.29,
          -33.64,
          -31.5,
          -60.82,
          -59.98,
          -56.07,
          -56.05,
          -25.36,
          -31.59,
          11.0,
          12.07,
          3.86,
          4.91,
          -0.03,
          0.18,
          -17.56,
          -17.55,
          -18.88,
          -17.15,
          -20.68,
          -21.78,
          15.14,
          14.75,
          -33.8,
          -37.23,
          14.59,
          14.55,
          -28.05,
          -31.07,
          -66.72,
          -67.137,
          -73.26,
          -69.016,
          -37.223,
          -34.466,
          -43.486,
          -42.861,
          -59.101,
          -58.316,
          -59.82,
          -63.178,
          -54.519,
          -56.34,
          -48.95,
          -49.5,
          -33.8,
          -33.838,
          -38.792,
          -39.931,
          -52.362,
          -67.059,
          -71.93,
          -64.429,
          -54.875,
          -45.8
         ],
         "z": [
          50.94,
          52.09,
          42.2,
          43.82,
          -13.31,
          -14.02,
          35.46,
          34.04,
          -9.62,
          -10.73,
          19.02,
          21.41,
          13.99,
          14.17,
          -12.11,
          -11.91,
          13.95,
          14.63,
          61.38,
          61.85,
          -11.46,
          -11.26,
          30.89,
          30.22,
          -7.4,
          -7.13,
          -18.14,
          -18.04,
          3.44,
          2.08,
          13.95,
          15.84,
          41.57,
          39.79,
          24.67,
          21.87,
          -10.13,
          -10.33,
          -20.7,
          -20.47,
          -17.14,
          -17.5,
          6.44,
          9.4,
          27.22,
          28.23,
          -4.63,
          -3.87,
          28.17,
          30.59,
          16.11,
          19.42,
          -7.84,
          -7.61,
          -20.23,
          -20.18,
          48.92,
          52.55,
          58.96,
          62.06,
          46.74,
          49.54,
          30.45,
          34.48,
          35.59,
          38.63,
          48.01,
          43.77,
          70.07,
          68.09,
          9.24,
          9.42,
          2.4,
          2.46,
          0.21,
          0.23,
          7.98,
          8.09,
          9.98,
          10.41,
          7.13,
          6.8,
          -20.18,
          -16.86,
          -2.2,
          -1.47,
          -34.08,
          -32.23,
          -23.17,
          -22.32,
          -28.934,
          -29.547,
          -38.204,
          -39.949,
          -18.581,
          -19.391,
          -16.933,
          -18.151,
          -22.131,
          -23.645,
          -45.449,
          -48.457,
          -47.685,
          -49.468,
          -45.903,
          -46.327,
          -41.765,
          -41.347,
          -20.05,
          -11.398,
          -6.1138,
          -15.123,
          -25.141,
          -34.08,
          -34.896,
          -31.683
         ],
         "type": "scatter3d"
        }
       ],
       "layout": {
        "scene": {
         "xaxis": {
          "title": {
           "text": "X"
          }
         },
         "yaxis": {
          "title": {
           "text": "Y"
          }
         },
         "zaxis": {
          "title": {
           "text": "Z"
          }
         }
        },
        "showlegend": true,
        "title": {
         "text": "Graph Colored by Closeness - Mean"
        },
        "template": {
         "data": {
          "histogram2dcontour": [
           {
            "type": "histogram2dcontour",
            "colorbar": {
             "outlinewidth": 0,
             "ticks": ""
            },
            "colorscale": [
             [
              0.0,
              "#0d0887"
             ],
             [
              0.1111111111111111,
              "#46039f"
             ],
             [
              0.2222222222222222,
              "#7201a8"
             ],
             [
              0.3333333333333333,
              "#9c179e"
             ],
             [
              0.4444444444444444,
              "#bd3786"
             ],
             [
              0.5555555555555556,
              "#d8576b"
             ],
             [
              0.6666666666666666,
              "#ed7953"
             ],
             [
              0.7777777777777778,
              "#fb9f3a"
             ],
             [
              0.8888888888888888,
              "#fdca26"
             ],
             [
              1.0,
              "#f0f921"
             ]
            ]
           }
          ],
          "choropleth": [
           {
            "type": "choropleth",
            "colorbar": {
             "outlinewidth": 0,
             "ticks": ""
            }
           }
          ],
          "histogram2d": [
           {
            "type": "histogram2d",
            "colorbar": {
             "outlinewidth": 0,
             "ticks": ""
            },
            "colorscale": [
             [
              0.0,
              "#0d0887"
             ],
             [
              0.1111111111111111,
              "#46039f"
             ],
             [
              0.2222222222222222,
              "#7201a8"
             ],
             [
              0.3333333333333333,
              "#9c179e"
             ],
             [
              0.4444444444444444,
              "#bd3786"
             ],
             [
              0.5555555555555556,
              "#d8576b"
             ],
             [
              0.6666666666666666,
              "#ed7953"
             ],
             [
              0.7777777777777778,
              "#fb9f3a"
             ],
             [
              0.8888888888888888,
              "#fdca26"
             ],
             [
              1.0,
              "#f0f921"
             ]
            ]
           }
          ],
          "heatmap": [
           {
            "type": "heatmap",
            "colorbar": {
             "outlinewidth": 0,
             "ticks": ""
            },
            "colorscale": [
             [
              0.0,
              "#0d0887"
             ],
             [
              0.1111111111111111,
              "#46039f"
             ],
             [
              0.2222222222222222,
              "#7201a8"
             ],
             [
              0.3333333333333333,
              "#9c179e"
             ],
             [
              0.4444444444444444,
              "#bd3786"
             ],
             [
              0.5555555555555556,
              "#d8576b"
             ],
             [
              0.6666666666666666,
              "#ed7953"
             ],
             [
              0.7777777777777778,
              "#fb9f3a"
             ],
             [
              0.8888888888888888,
              "#fdca26"
             ],
             [
              1.0,
              "#f0f921"
             ]
            ]
           }
          ],
          "heatmapgl": [
           {
            "type": "heatmapgl",
            "colorbar": {
             "outlinewidth": 0,
             "ticks": ""
            },
            "colorscale": [
             [
              0.0,
              "#0d0887"
             ],
             [
              0.1111111111111111,
              "#46039f"
             ],
             [
              0.2222222222222222,
              "#7201a8"
             ],
             [
              0.3333333333333333,
              "#9c179e"
             ],
             [
              0.4444444444444444,
              "#bd3786"
             ],
             [
              0.5555555555555556,
              "#d8576b"
             ],
             [
              0.6666666666666666,
              "#ed7953"
             ],
             [
              0.7777777777777778,
              "#fb9f3a"
             ],
             [
              0.8888888888888888,
              "#fdca26"
             ],
             [
              1.0,
              "#f0f921"
             ]
            ]
           }
          ],
          "contourcarpet": [
           {
            "type": "contourcarpet",
            "colorbar": {
             "outlinewidth": 0,
             "ticks": ""
            }
           }
          ],
          "contour": [
           {
            "type": "contour",
            "colorbar": {
             "outlinewidth": 0,
             "ticks": ""
            },
            "colorscale": [
             [
              0.0,
              "#0d0887"
             ],
             [
              0.1111111111111111,
              "#46039f"
             ],
             [
              0.2222222222222222,
              "#7201a8"
             ],
             [
              0.3333333333333333,
              "#9c179e"
             ],
             [
              0.4444444444444444,
              "#bd3786"
             ],
             [
              0.5555555555555556,
              "#d8576b"
             ],
             [
              0.6666666666666666,
              "#ed7953"
             ],
             [
              0.7777777777777778,
              "#fb9f3a"
             ],
             [
              0.8888888888888888,
              "#fdca26"
             ],
             [
              1.0,
              "#f0f921"
             ]
            ]
           }
          ],
          "surface": [
           {
            "type": "surface",
            "colorbar": {
             "outlinewidth": 0,
             "ticks": ""
            },
            "colorscale": [
             [
              0.0,
              "#0d0887"
             ],
             [
              0.1111111111111111,
              "#46039f"
             ],
             [
              0.2222222222222222,
              "#7201a8"
             ],
             [
              0.3333333333333333,
              "#9c179e"
             ],
             [
              0.4444444444444444,
              "#bd3786"
             ],
             [
              0.5555555555555556,
              "#d8576b"
             ],
             [
              0.6666666666666666,
              "#ed7953"
             ],
             [
              0.7777777777777778,
              "#fb9f3a"
             ],
             [
              0.8888888888888888,
              "#fdca26"
             ],
             [
              1.0,
              "#f0f921"
             ]
            ]
           }
          ],
          "mesh3d": [
           {
            "type": "mesh3d",
            "colorbar": {
             "outlinewidth": 0,
             "ticks": ""
            }
           }
          ],
          "scatter": [
           {
            "marker": {
             "line": {
              "color": "#283442"
             }
            },
            "type": "scatter"
           }
          ],
          "parcoords": [
           {
            "type": "parcoords",
            "line": {
             "colorbar": {
              "outlinewidth": 0,
              "ticks": ""
             }
            }
           }
          ],
          "scatterpolargl": [
           {
            "type": "scatterpolargl",
            "marker": {
             "colorbar": {
              "outlinewidth": 0,
              "ticks": ""
             }
            }
           }
          ],
          "bar": [
           {
            "error_x": {
             "color": "#f2f5fa"
            },
            "error_y": {
             "color": "#f2f5fa"
            },
            "marker": {
             "line": {
              "color": "rgb(17,17,17)",
              "width": 0.5
             },
             "pattern": {
              "fillmode": "overlay",
              "size": 10,
              "solidity": 0.2
             }
            },
            "type": "bar"
           }
          ],
          "scattergeo": [
           {
            "type": "scattergeo",
            "marker": {
             "colorbar": {
              "outlinewidth": 0,
              "ticks": ""
             }
            }
           }
          ],
          "scatterpolar": [
           {
            "type": "scatterpolar",
            "marker": {
             "colorbar": {
              "outlinewidth": 0,
              "ticks": ""
             }
            }
           }
          ],
          "histogram": [
           {
            "marker": {
             "pattern": {
              "fillmode": "overlay",
              "size": 10,
              "solidity": 0.2
             }
            },
            "type": "histogram"
           }
          ],
          "scattergl": [
           {
            "marker": {
             "line": {
              "color": "#283442"
             }
            },
            "type": "scattergl"
           }
          ],
          "scatter3d": [
           {
            "type": "scatter3d",
            "line": {
             "colorbar": {
              "outlinewidth": 0,
              "ticks": ""
             }
            },
            "marker": {
             "colorbar": {
              "outlinewidth": 0,
              "ticks": ""
             }
            }
           }
          ],
          "scattermapbox": [
           {
            "type": "scattermapbox",
            "marker": {
             "colorbar": {
              "outlinewidth": 0,
              "ticks": ""
             }
            }
           }
          ],
          "scatterternary": [
           {
            "type": "scatterternary",
            "marker": {
             "colorbar": {
              "outlinewidth": 0,
              "ticks": ""
             }
            }
           }
          ],
          "scattercarpet": [
           {
            "type": "scattercarpet",
            "marker": {
             "colorbar": {
              "outlinewidth": 0,
              "ticks": ""
             }
            }
           }
          ],
          "carpet": [
           {
            "aaxis": {
             "endlinecolor": "#A2B1C6",
             "gridcolor": "#506784",
             "linecolor": "#506784",
             "minorgridcolor": "#506784",
             "startlinecolor": "#A2B1C6"
            },
            "baxis": {
             "endlinecolor": "#A2B1C6",
             "gridcolor": "#506784",
             "linecolor": "#506784",
             "minorgridcolor": "#506784",
             "startlinecolor": "#A2B1C6"
            },
            "type": "carpet"
           }
          ],
          "table": [
           {
            "cells": {
             "fill": {
              "color": "#506784"
             },
             "line": {
              "color": "rgb(17,17,17)"
             }
            },
            "header": {
             "fill": {
              "color": "#2a3f5f"
             },
             "line": {
              "color": "rgb(17,17,17)"
             }
            },
            "type": "table"
           }
          ],
          "barpolar": [
           {
            "marker": {
             "line": {
              "color": "rgb(17,17,17)",
              "width": 0.5
             },
             "pattern": {
              "fillmode": "overlay",
              "size": 10,
              "solidity": 0.2
             }
            },
            "type": "barpolar"
           }
          ],
          "pie": [
           {
            "automargin": true,
            "type": "pie"
           }
          ]
         },
         "layout": {
          "autotypenumbers": "strict",
          "colorway": [
           "#636efa",
           "#EF553B",
           "#00cc96",
           "#ab63fa",
           "#FFA15A",
           "#19d3f3",
           "#FF6692",
           "#B6E880",
           "#FF97FF",
           "#FECB52"
          ],
          "font": {
           "color": "#f2f5fa"
          },
          "hovermode": "closest",
          "hoverlabel": {
           "align": "left"
          },
          "paper_bgcolor": "rgb(17,17,17)",
          "plot_bgcolor": "rgb(17,17,17)",
          "polar": {
           "bgcolor": "rgb(17,17,17)",
           "angularaxis": {
            "gridcolor": "#506784",
            "linecolor": "#506784",
            "ticks": ""
           },
           "radialaxis": {
            "gridcolor": "#506784",
            "linecolor": "#506784",
            "ticks": ""
           }
          },
          "ternary": {
           "bgcolor": "rgb(17,17,17)",
           "aaxis": {
            "gridcolor": "#506784",
            "linecolor": "#506784",
            "ticks": ""
           },
           "baxis": {
            "gridcolor": "#506784",
            "linecolor": "#506784",
            "ticks": ""
           },
           "caxis": {
            "gridcolor": "#506784",
            "linecolor": "#506784",
            "ticks": ""
           }
          },
          "coloraxis": {
           "colorbar": {
            "outlinewidth": 0,
            "ticks": ""
           }
          },
          "colorscale": {
           "sequential": [
            [
             0.0,
             "#0d0887"
            ],
            [
             0.1111111111111111,
             "#46039f"
            ],
            [
             0.2222222222222222,
             "#7201a8"
            ],
            [
             0.3333333333333333,
             "#9c179e"
            ],
            [
             0.4444444444444444,
             "#bd3786"
            ],
            [
             0.5555555555555556,
             "#d8576b"
            ],
            [
             0.6666666666666666,
             "#ed7953"
            ],
            [
             0.7777777777777778,
             "#fb9f3a"
            ],
            [
             0.8888888888888888,
             "#fdca26"
            ],
            [
             1.0,
             "#f0f921"
            ]
           ],
           "sequentialminus": [
            [
             0.0,
             "#0d0887"
            ],
            [
             0.1111111111111111,
             "#46039f"
            ],
            [
             0.2222222222222222,
             "#7201a8"
            ],
            [
             0.3333333333333333,
             "#9c179e"
            ],
            [
             0.4444444444444444,
             "#bd3786"
            ],
            [
             0.5555555555555556,
             "#d8576b"
            ],
            [
             0.6666666666666666,
             "#ed7953"
            ],
            [
             0.7777777777777778,
             "#fb9f3a"
            ],
            [
             0.8888888888888888,
             "#fdca26"
            ],
            [
             1.0,
             "#f0f921"
            ]
           ],
           "diverging": [
            [
             0,
             "#8e0152"
            ],
            [
             0.1,
             "#c51b7d"
            ],
            [
             0.2,
             "#de77ae"
            ],
            [
             0.3,
             "#f1b6da"
            ],
            [
             0.4,
             "#fde0ef"
            ],
            [
             0.5,
             "#f7f7f7"
            ],
            [
             0.6,
             "#e6f5d0"
            ],
            [
             0.7,
             "#b8e186"
            ],
            [
             0.8,
             "#7fbc41"
            ],
            [
             0.9,
             "#4d9221"
            ],
            [
             1,
             "#276419"
            ]
           ]
          },
          "xaxis": {
           "gridcolor": "#283442",
           "linecolor": "#506784",
           "ticks": "",
           "title": {
            "standoff": 15
           },
           "zerolinecolor": "#283442",
           "automargin": true,
           "zerolinewidth": 2
          },
          "yaxis": {
           "gridcolor": "#283442",
           "linecolor": "#506784",
           "ticks": "",
           "title": {
            "standoff": 15
           },
           "zerolinecolor": "#283442",
           "automargin": true,
           "zerolinewidth": 2
          },
          "scene": {
           "xaxis": {
            "backgroundcolor": "rgb(17,17,17)",
            "gridcolor": "#506784",
            "linecolor": "#506784",
            "showbackground": true,
            "ticks": "",
            "zerolinecolor": "#C8D4E3",
            "gridwidth": 2
           },
           "yaxis": {
            "backgroundcolor": "rgb(17,17,17)",
            "gridcolor": "#506784",
            "linecolor": "#506784",
            "showbackground": true,
            "ticks": "",
            "zerolinecolor": "#C8D4E3",
            "gridwidth": 2
           },
           "zaxis": {
            "backgroundcolor": "rgb(17,17,17)",
            "gridcolor": "#506784",
            "linecolor": "#506784",
            "showbackground": true,
            "ticks": "",
            "zerolinecolor": "#C8D4E3",
            "gridwidth": 2
           }
          },
          "shapedefaults": {
           "line": {
            "color": "#f2f5fa"
           }
          },
          "annotationdefaults": {
           "arrowcolor": "#f2f5fa",
           "arrowhead": 0,
           "arrowwidth": 1
          },
          "geo": {
           "bgcolor": "rgb(17,17,17)",
           "landcolor": "rgb(17,17,17)",
           "subunitcolor": "#506784",
           "showland": true,
           "showlakes": true,
           "lakecolor": "rgb(17,17,17)"
          },
          "title": {
           "x": 0.05
          },
          "updatemenudefaults": {
           "bgcolor": "#506784",
           "borderwidth": 0
          },
          "sliderdefaults": {
           "bgcolor": "#C8D4E3",
           "borderwidth": 1,
           "bordercolor": "rgb(17,17,17)",
           "tickwidth": 0
          },
          "mapbox": {
           "style": "dark"
          }
         }
        }
       },
       "config": {
        "plotlyServerURL": "https://plot.ly"
       }
      },
      "text/html": [
       "<div>                            <div id=\"1e9279da-93de-49ef-be98-3dabdcf9af1e\" class=\"plotly-graph-div\" style=\"height:525px; width:100%;\"></div>            <script type=\"text/javascript\">                require([\"plotly\"], function(Plotly) {                    window.PLOTLYENV=window.PLOTLYENV || {};                                    if (document.getElementById(\"1e9279da-93de-49ef-be98-3dabdcf9af1e\")) {                    Plotly.newPlot(                        \"1e9279da-93de-49ef-be98-3dabdcf9af1e\",                        [{\"line\":{\"color\":\"black\",\"width\":2},\"mode\":\"lines\",\"name\":\"Edges\",\"x\":[],\"y\":[],\"z\":[],\"type\":\"scatter3d\"},{\"marker\":{\"color\":[0.1905899586881598,0.1699298570082592,0.1455864448360564,0.1492957922755351,0.081644285812469,0.0980552203610491,0.1327420427709598,0.1374606612596705,0.0770541770288697,0.1028066330228709,0.1402426078903753,0.140691422691028,0.1515237798307862,0.1431802009946237,0.0571833284338423,0.095472271037329,0.0845632746716062,0.0921226628924407,0.2014910237326341,0.2109775158806055,0.0587101629833506,0.0544220037597662,0.1411328444262896,0.1316066034957095,0.0493763753914098,0.040626270242706,0.1098945260659955,0.0968467462313531,0.106975184750347,0.0821604937779882,0.0683137631342154,0.0799633583570087,0.1406338735067027,0.1352263750497924,0.0488434950307474,0.047775571054508,0.1236122972861477,0.1152410037665616,0.1100082794918182,0.1341403262260341,0.0984721210119456,0.0983305121303386,0.0140192334295321,0.0330536727531749,0.0446653003490689,0.0636643234928802,0.0410724894071163,0.036058314001252,0.0275647106806384,0.026393842081275,0.0232602872018832,0.0178879264330176,0.0925993516486323,0.135554672715557,0.131075223475334,0.0914309078276724,0.1479222995867528,0.1342868594481656,0.0846000814922427,0.1017322801981579,0.0997442654730256,0.0690727953959975,0.1052456556414567,0.0726656294408498,0.0760176246905193,0.045564949974423,0.0711675622244816,0.0982520138805842,0.1494589963035297,0.1893796693831242,0.1139629635009444,0.1190811015026338,0.0795624435585606,0.0874356988703954,0.0822245624110626,0.0627106577485296,0.0436519032025328,0.0472577038083761,0.0977840824662199,0.1023457345953136,0.1526095188883385,0.1292193561250709,0.1141945775104935,0.0773459789964994,0.108071346705536,0.0953110542081525,0.1638012646578237,0.1299190132780088,0.1829442798794529,0.1520089978725141,0.1131224961922707,0.1276287716683479,0.1872972578822409,0.2089166415483196,0.0670291362352251,0.0587419403381963,0.0652026072913407,0.0835260040677408,0.1090708363801633,0.1058258657518831,0.1098311944221483,0.1314817170369489,0.0773721281848447,0.077159955589618,0.0408481900563015,0.0592036252430459,0.0976320144139017,0.137263695459342,0.0805212022728525,0.0250109682630199,0.0473134260040717,0.0888048862152668,0.0967469994843199,0.0587400721015565,0.0277085811042432,0.0671874110143211],\"colorbar\":{\"title\":{\"text\":\"closeness (Mean)\"}},\"colorscale\":[[0.0,\"#0d0887\"],[0.1111111111111111,\"#46039f\"],[0.2222222222222222,\"#7201a8\"],[0.3333333333333333,\"#9c179e\"],[0.4444444444444444,\"#bd3786\"],[0.5555555555555556,\"#d8576b\"],[0.6666666666666666,\"#ed7953\"],[0.7777777777777778,\"#fb9f3a\"],[0.8888888888888888,\"#fdca26\"],[1.0,\"#f0f921\"]],\"size\":10},\"mode\":\"markers+text\",\"name\":\"Nodes (closeness - Mean)\",\"text\":[\"1\",\"2\",\"3\",\"4\",\"5\",\"6\",\"7\",\"8\",\"9\",\"10\",\"11\",\"12\",\"13\",\"14\",\"15\",\"16\",\"17\",\"18\",\"19\",\"20\",\"21\",\"22\",\"23\",\"24\",\"25\",\"26\",\"27\",\"28\",\"29\",\"30\",\"31\",\"32\",\"33\",\"34\",\"35\",\"36\",\"37\",\"38\",\"39\",\"40\",\"41\",\"42\",\"43\",\"44\",\"45\",\"46\",\"47\",\"48\",\"49\",\"50\",\"51\",\"52\",\"53\",\"54\",\"55\",\"56\",\"57\",\"58\",\"59\",\"60\",\"61\",\"62\",\"63\",\"64\",\"65\",\"66\",\"67\",\"68\",\"69\",\"70\",\"71\",\"72\",\"73\",\"74\",\"75\",\"76\",\"77\",\"78\",\"79\",\"80\",\"81\",\"82\",\"83\",\"84\",\"85\",\"86\",\"87\",\"88\",\"89\",\"90\",\"91\",\"92\",\"93\",\"94\",\"95\",\"96\",\"97\",\"98\",\"99\",\"100\",\"101\",\"102\",\"103\",\"104\",\"105\",\"106\",\"107\",\"108\",\"109\",\"110\",\"111\",\"112\",\"113\",\"114\",\"115\",\"116\"],\"textposition\":\"top center\",\"x\":[-38.65,41.37,-18.45,21.9,-16.56,18.49,-33.43,37.59,-30.65,33.18,-48.43,50.2,-45.58,50.33,-35.98,41.22,-47.16,52.65,-5.32,8.62,-8.06,10.43,-4.8,9.1,-5.17,8.16,-5.08,8.35,-35.13,39.02,-4.04,8.46,-5.48,8.02,-4.85,7.44,-25.03,29.23,-21.17,25.38,-23.27,27.32,-7.14,15.99,-5.93,13.51,-14.62,16.29,-16.54,24.29,-32.39,37.39,-36.36,38.16,-31.16,33.97,-42.46,41.43,-23.45,26.11,-42.8,46.46,-55.79,57.61,-44.14,45.51,-7.24,9.98,-7.63,7.48,-11.46,14.84,-23.91,27.78,-17.75,21.2,-10.85,13.0,-41.99,45.86,-53.16,58.15,-39.88,48.25,-55.52,57.47,-36.32,44.22,-49.77,53.69,-36.067,37.456,-28.636,32.057,-8.8004,12.319,-15.004,17.199,-23.238,24.691,-32.358,33.139,-25.751,25.064,-10.947,9.4602,-22.614,25.995,0.75743,1.3804,1.2207,1.1414,1.1458,1.1521,0.86467,0.35584],\"y\":[-5.68,-8.21,34.81,31.12,47.32,48.1,32.73,33.06,50.43,52.59,12.73,14.98,29.91,30.16,30.71,32.23,-8.48,-6.25,4.85,0.17,15.05,15.91,49.17,50.84,54.06,51.67,37.07,35.64,6.65,6.25,35.4,37.01,-14.92,-8.83,-42.92,-41.81,-20.74,-19.78,-15.95,-15.15,-0.67,0.64,-78.67,-73.15,-80.13,-79.36,-67.56,-66.93,-84.26,-80.85,-80.73,-79.7,-78.29,-81.99,-40.3,-39.1,-22.63,-25.49,-59.56,-59.18,-45.82,-46.29,-33.64,-31.5,-60.82,-59.98,-56.07,-56.05,-25.36,-31.59,11.0,12.07,3.86,4.91,-0.03,0.18,-17.56,-17.55,-18.88,-17.15,-20.68,-21.78,15.14,14.75,-33.8,-37.23,14.59,14.55,-28.05,-31.07,-66.72,-67.137,-73.26,-69.016,-37.223,-34.466,-43.486,-42.861,-59.101,-58.316,-59.82,-63.178,-54.519,-56.34,-48.95,-49.5,-33.8,-33.838,-38.792,-39.931,-52.362,-67.059,-71.93,-64.429,-54.875,-45.8],\"z\":[50.94,52.09,42.2,43.82,-13.31,-14.02,35.46,34.04,-9.62,-10.73,19.02,21.41,13.99,14.17,-12.11,-11.91,13.95,14.63,61.38,61.85,-11.46,-11.26,30.89,30.22,-7.4,-7.13,-18.14,-18.04,3.44,2.08,13.95,15.84,41.57,39.79,24.67,21.87,-10.13,-10.33,-20.7,-20.47,-17.14,-17.5,6.44,9.4,27.22,28.23,-4.63,-3.87,28.17,30.59,16.11,19.42,-7.84,-7.61,-20.23,-20.18,48.92,52.55,58.96,62.06,46.74,49.54,30.45,34.48,35.59,38.63,48.01,43.77,70.07,68.09,9.24,9.42,2.4,2.46,0.21,0.23,7.98,8.09,9.98,10.41,7.13,6.8,-20.18,-16.86,-2.2,-1.47,-34.08,-32.23,-23.17,-22.32,-28.934,-29.547,-38.204,-39.949,-18.581,-19.391,-16.933,-18.151,-22.131,-23.645,-45.449,-48.457,-47.685,-49.468,-45.903,-46.327,-41.765,-41.347,-20.05,-11.398,-6.1138,-15.123,-25.141,-34.08,-34.896,-31.683],\"type\":\"scatter3d\"}],                        {\"scene\":{\"xaxis\":{\"title\":{\"text\":\"X\"}},\"yaxis\":{\"title\":{\"text\":\"Y\"}},\"zaxis\":{\"title\":{\"text\":\"Z\"}}},\"showlegend\":true,\"title\":{\"text\":\"Graph Colored by Closeness - Mean\"},\"template\":{\"data\":{\"histogram2dcontour\":[{\"type\":\"histogram2dcontour\",\"colorbar\":{\"outlinewidth\":0,\"ticks\":\"\"},\"colorscale\":[[0.0,\"#0d0887\"],[0.1111111111111111,\"#46039f\"],[0.2222222222222222,\"#7201a8\"],[0.3333333333333333,\"#9c179e\"],[0.4444444444444444,\"#bd3786\"],[0.5555555555555556,\"#d8576b\"],[0.6666666666666666,\"#ed7953\"],[0.7777777777777778,\"#fb9f3a\"],[0.8888888888888888,\"#fdca26\"],[1.0,\"#f0f921\"]]}],\"choropleth\":[{\"type\":\"choropleth\",\"colorbar\":{\"outlinewidth\":0,\"ticks\":\"\"}}],\"histogram2d\":[{\"type\":\"histogram2d\",\"colorbar\":{\"outlinewidth\":0,\"ticks\":\"\"},\"colorscale\":[[0.0,\"#0d0887\"],[0.1111111111111111,\"#46039f\"],[0.2222222222222222,\"#7201a8\"],[0.3333333333333333,\"#9c179e\"],[0.4444444444444444,\"#bd3786\"],[0.5555555555555556,\"#d8576b\"],[0.6666666666666666,\"#ed7953\"],[0.7777777777777778,\"#fb9f3a\"],[0.8888888888888888,\"#fdca26\"],[1.0,\"#f0f921\"]]}],\"heatmap\":[{\"type\":\"heatmap\",\"colorbar\":{\"outlinewidth\":0,\"ticks\":\"\"},\"colorscale\":[[0.0,\"#0d0887\"],[0.1111111111111111,\"#46039f\"],[0.2222222222222222,\"#7201a8\"],[0.3333333333333333,\"#9c179e\"],[0.4444444444444444,\"#bd3786\"],[0.5555555555555556,\"#d8576b\"],[0.6666666666666666,\"#ed7953\"],[0.7777777777777778,\"#fb9f3a\"],[0.8888888888888888,\"#fdca26\"],[1.0,\"#f0f921\"]]}],\"heatmapgl\":[{\"type\":\"heatmapgl\",\"colorbar\":{\"outlinewidth\":0,\"ticks\":\"\"},\"colorscale\":[[0.0,\"#0d0887\"],[0.1111111111111111,\"#46039f\"],[0.2222222222222222,\"#7201a8\"],[0.3333333333333333,\"#9c179e\"],[0.4444444444444444,\"#bd3786\"],[0.5555555555555556,\"#d8576b\"],[0.6666666666666666,\"#ed7953\"],[0.7777777777777778,\"#fb9f3a\"],[0.8888888888888888,\"#fdca26\"],[1.0,\"#f0f921\"]]}],\"contourcarpet\":[{\"type\":\"contourcarpet\",\"colorbar\":{\"outlinewidth\":0,\"ticks\":\"\"}}],\"contour\":[{\"type\":\"contour\",\"colorbar\":{\"outlinewidth\":0,\"ticks\":\"\"},\"colorscale\":[[0.0,\"#0d0887\"],[0.1111111111111111,\"#46039f\"],[0.2222222222222222,\"#7201a8\"],[0.3333333333333333,\"#9c179e\"],[0.4444444444444444,\"#bd3786\"],[0.5555555555555556,\"#d8576b\"],[0.6666666666666666,\"#ed7953\"],[0.7777777777777778,\"#fb9f3a\"],[0.8888888888888888,\"#fdca26\"],[1.0,\"#f0f921\"]]}],\"surface\":[{\"type\":\"surface\",\"colorbar\":{\"outlinewidth\":0,\"ticks\":\"\"},\"colorscale\":[[0.0,\"#0d0887\"],[0.1111111111111111,\"#46039f\"],[0.2222222222222222,\"#7201a8\"],[0.3333333333333333,\"#9c179e\"],[0.4444444444444444,\"#bd3786\"],[0.5555555555555556,\"#d8576b\"],[0.6666666666666666,\"#ed7953\"],[0.7777777777777778,\"#fb9f3a\"],[0.8888888888888888,\"#fdca26\"],[1.0,\"#f0f921\"]]}],\"mesh3d\":[{\"type\":\"mesh3d\",\"colorbar\":{\"outlinewidth\":0,\"ticks\":\"\"}}],\"scatter\":[{\"marker\":{\"line\":{\"color\":\"#283442\"}},\"type\":\"scatter\"}],\"parcoords\":[{\"type\":\"parcoords\",\"line\":{\"colorbar\":{\"outlinewidth\":0,\"ticks\":\"\"}}}],\"scatterpolargl\":[{\"type\":\"scatterpolargl\",\"marker\":{\"colorbar\":{\"outlinewidth\":0,\"ticks\":\"\"}}}],\"bar\":[{\"error_x\":{\"color\":\"#f2f5fa\"},\"error_y\":{\"color\":\"#f2f5fa\"},\"marker\":{\"line\":{\"color\":\"rgb(17,17,17)\",\"width\":0.5},\"pattern\":{\"fillmode\":\"overlay\",\"size\":10,\"solidity\":0.2}},\"type\":\"bar\"}],\"scattergeo\":[{\"type\":\"scattergeo\",\"marker\":{\"colorbar\":{\"outlinewidth\":0,\"ticks\":\"\"}}}],\"scatterpolar\":[{\"type\":\"scatterpolar\",\"marker\":{\"colorbar\":{\"outlinewidth\":0,\"ticks\":\"\"}}}],\"histogram\":[{\"marker\":{\"pattern\":{\"fillmode\":\"overlay\",\"size\":10,\"solidity\":0.2}},\"type\":\"histogram\"}],\"scattergl\":[{\"marker\":{\"line\":{\"color\":\"#283442\"}},\"type\":\"scattergl\"}],\"scatter3d\":[{\"type\":\"scatter3d\",\"line\":{\"colorbar\":{\"outlinewidth\":0,\"ticks\":\"\"}},\"marker\":{\"colorbar\":{\"outlinewidth\":0,\"ticks\":\"\"}}}],\"scattermapbox\":[{\"type\":\"scattermapbox\",\"marker\":{\"colorbar\":{\"outlinewidth\":0,\"ticks\":\"\"}}}],\"scatterternary\":[{\"type\":\"scatterternary\",\"marker\":{\"colorbar\":{\"outlinewidth\":0,\"ticks\":\"\"}}}],\"scattercarpet\":[{\"type\":\"scattercarpet\",\"marker\":{\"colorbar\":{\"outlinewidth\":0,\"ticks\":\"\"}}}],\"carpet\":[{\"aaxis\":{\"endlinecolor\":\"#A2B1C6\",\"gridcolor\":\"#506784\",\"linecolor\":\"#506784\",\"minorgridcolor\":\"#506784\",\"startlinecolor\":\"#A2B1C6\"},\"baxis\":{\"endlinecolor\":\"#A2B1C6\",\"gridcolor\":\"#506784\",\"linecolor\":\"#506784\",\"minorgridcolor\":\"#506784\",\"startlinecolor\":\"#A2B1C6\"},\"type\":\"carpet\"}],\"table\":[{\"cells\":{\"fill\":{\"color\":\"#506784\"},\"line\":{\"color\":\"rgb(17,17,17)\"}},\"header\":{\"fill\":{\"color\":\"#2a3f5f\"},\"line\":{\"color\":\"rgb(17,17,17)\"}},\"type\":\"table\"}],\"barpolar\":[{\"marker\":{\"line\":{\"color\":\"rgb(17,17,17)\",\"width\":0.5},\"pattern\":{\"fillmode\":\"overlay\",\"size\":10,\"solidity\":0.2}},\"type\":\"barpolar\"}],\"pie\":[{\"automargin\":true,\"type\":\"pie\"}]},\"layout\":{\"autotypenumbers\":\"strict\",\"colorway\":[\"#636efa\",\"#EF553B\",\"#00cc96\",\"#ab63fa\",\"#FFA15A\",\"#19d3f3\",\"#FF6692\",\"#B6E880\",\"#FF97FF\",\"#FECB52\"],\"font\":{\"color\":\"#f2f5fa\"},\"hovermode\":\"closest\",\"hoverlabel\":{\"align\":\"left\"},\"paper_bgcolor\":\"rgb(17,17,17)\",\"plot_bgcolor\":\"rgb(17,17,17)\",\"polar\":{\"bgcolor\":\"rgb(17,17,17)\",\"angularaxis\":{\"gridcolor\":\"#506784\",\"linecolor\":\"#506784\",\"ticks\":\"\"},\"radialaxis\":{\"gridcolor\":\"#506784\",\"linecolor\":\"#506784\",\"ticks\":\"\"}},\"ternary\":{\"bgcolor\":\"rgb(17,17,17)\",\"aaxis\":{\"gridcolor\":\"#506784\",\"linecolor\":\"#506784\",\"ticks\":\"\"},\"baxis\":{\"gridcolor\":\"#506784\",\"linecolor\":\"#506784\",\"ticks\":\"\"},\"caxis\":{\"gridcolor\":\"#506784\",\"linecolor\":\"#506784\",\"ticks\":\"\"}},\"coloraxis\":{\"colorbar\":{\"outlinewidth\":0,\"ticks\":\"\"}},\"colorscale\":{\"sequential\":[[0.0,\"#0d0887\"],[0.1111111111111111,\"#46039f\"],[0.2222222222222222,\"#7201a8\"],[0.3333333333333333,\"#9c179e\"],[0.4444444444444444,\"#bd3786\"],[0.5555555555555556,\"#d8576b\"],[0.6666666666666666,\"#ed7953\"],[0.7777777777777778,\"#fb9f3a\"],[0.8888888888888888,\"#fdca26\"],[1.0,\"#f0f921\"]],\"sequentialminus\":[[0.0,\"#0d0887\"],[0.1111111111111111,\"#46039f\"],[0.2222222222222222,\"#7201a8\"],[0.3333333333333333,\"#9c179e\"],[0.4444444444444444,\"#bd3786\"],[0.5555555555555556,\"#d8576b\"],[0.6666666666666666,\"#ed7953\"],[0.7777777777777778,\"#fb9f3a\"],[0.8888888888888888,\"#fdca26\"],[1.0,\"#f0f921\"]],\"diverging\":[[0,\"#8e0152\"],[0.1,\"#c51b7d\"],[0.2,\"#de77ae\"],[0.3,\"#f1b6da\"],[0.4,\"#fde0ef\"],[0.5,\"#f7f7f7\"],[0.6,\"#e6f5d0\"],[0.7,\"#b8e186\"],[0.8,\"#7fbc41\"],[0.9,\"#4d9221\"],[1,\"#276419\"]]},\"xaxis\":{\"gridcolor\":\"#283442\",\"linecolor\":\"#506784\",\"ticks\":\"\",\"title\":{\"standoff\":15},\"zerolinecolor\":\"#283442\",\"automargin\":true,\"zerolinewidth\":2},\"yaxis\":{\"gridcolor\":\"#283442\",\"linecolor\":\"#506784\",\"ticks\":\"\",\"title\":{\"standoff\":15},\"zerolinecolor\":\"#283442\",\"automargin\":true,\"zerolinewidth\":2},\"scene\":{\"xaxis\":{\"backgroundcolor\":\"rgb(17,17,17)\",\"gridcolor\":\"#506784\",\"linecolor\":\"#506784\",\"showbackground\":true,\"ticks\":\"\",\"zerolinecolor\":\"#C8D4E3\",\"gridwidth\":2},\"yaxis\":{\"backgroundcolor\":\"rgb(17,17,17)\",\"gridcolor\":\"#506784\",\"linecolor\":\"#506784\",\"showbackground\":true,\"ticks\":\"\",\"zerolinecolor\":\"#C8D4E3\",\"gridwidth\":2},\"zaxis\":{\"backgroundcolor\":\"rgb(17,17,17)\",\"gridcolor\":\"#506784\",\"linecolor\":\"#506784\",\"showbackground\":true,\"ticks\":\"\",\"zerolinecolor\":\"#C8D4E3\",\"gridwidth\":2}},\"shapedefaults\":{\"line\":{\"color\":\"#f2f5fa\"}},\"annotationdefaults\":{\"arrowcolor\":\"#f2f5fa\",\"arrowhead\":0,\"arrowwidth\":1},\"geo\":{\"bgcolor\":\"rgb(17,17,17)\",\"landcolor\":\"rgb(17,17,17)\",\"subunitcolor\":\"#506784\",\"showland\":true,\"showlakes\":true,\"lakecolor\":\"rgb(17,17,17)\"},\"title\":{\"x\":0.05},\"updatemenudefaults\":{\"bgcolor\":\"#506784\",\"borderwidth\":0},\"sliderdefaults\":{\"bgcolor\":\"#C8D4E3\",\"borderwidth\":1,\"bordercolor\":\"rgb(17,17,17)\",\"tickwidth\":0},\"mapbox\":{\"style\":\"dark\"}}}},                        {\"responsive\": true}                    ).then(function(){\n",
       "                            \n",
       "var gd = document.getElementById('1e9279da-93de-49ef-be98-3dabdcf9af1e');\n",
       "var x = new MutationObserver(function (mutations, observer) {{\n",
       "        var display = window.getComputedStyle(gd).display;\n",
       "        if (!display || display === 'none') {{\n",
       "            console.log([gd, 'removed!']);\n",
       "            Plotly.purge(gd);\n",
       "            observer.disconnect();\n",
       "        }}\n",
       "}});\n",
       "\n",
       "// Listen for the removal of the full notebook cells\n",
       "var notebookContainer = gd.closest('#notebook-container');\n",
       "if (notebookContainer) {{\n",
       "    x.observe(notebookContainer, {childList: true});\n",
       "}}\n",
       "\n",
       "// Listen for the clearing of the current output cell\n",
       "var outputEl = gd.closest('.output');\n",
       "if (outputEl) {{\n",
       "    x.observe(outputEl, {childList: true});\n",
       "}}\n",
       "\n",
       "                        })                };                });            </script>        </div>"
      ]
     },
     "metadata": {},
     "output_type": "display_data"
    },
    {
     "data": {
      "application/vnd.plotly.v1+json": {
       "data": [
        {
         "line": {
          "color": "black",
          "width": 2
         },
         "mode": "lines",
         "name": "Edges",
         "x": [],
         "y": [],
         "z": [],
         "type": "scatter3d"
        },
        {
         "marker": {
          "color": [
           1.1375210118999846,
           0.8272122401132123,
           1.028888913909853,
           0.9128384080681188,
           1.1615633221605464,
           1.341742850758898,
           0.9142401527871584,
           1.029961213151232,
           0.7541765290305733,
           0.7331112908392043,
           1.6499772453706925,
           1.0168978754544469,
           1.2412017031416838,
           1.300689860834808,
           0.0042187979598935,
           0.0660241083036368,
           0.4782839900342708,
           0.7260002855237246,
           1.4544061164566031,
           1.4435282752154563,
           0.832571203898965,
           0.7988885906960661,
           1.8429314105147512,
           1.531799200151454,
           0.5179637468049947,
           0.1099422341678035,
           1.886590133650003,
           1.660442926078339,
           0.6294051216881371,
           0.1454618902050128,
           0.6119535053889678,
           1.1936371198273434,
           0.1583759108330156,
           0.4124325317149413,
           0.6064194784435131,
           0.4725497605504074,
           0.4152803369936748,
           0.2789088612410211,
           1.2133931162271736,
           1.9973986651395208,
           0.7909434304030327,
           0.2736461700378712,
           1.031068723781246,
           0.976341854279994,
           0.8800205934315528,
           0.1596802236089729,
           0.0513151062215655,
           0.6130019943987719,
           0.8221235582637831,
           0.7788165840363916,
           0.3410872967562142,
           0.963492958450516,
           1.8291969830061063,
           1.2515523272903124,
           2.0419092339813005,
           0.790310250369167,
           0.0552533409704238,
           0.0502646679730673,
           0.2270943864888792,
           0.077355881850913,
           0.0310273301895591,
           0.0811284030959882,
           0.4344510282975733,
           0.1438500546720291,
           0.9482475733911286,
           0.3050002763542068,
           0.7683001544948382,
           0.3166287596412473,
           0.4125950867406729,
           1.1890333329336684,
           0.8003788608418319,
           0.7688707821374976,
           0.2310098351739924,
           0.1155811842180156,
           0.7226300426652585,
           0.2203657847041285,
           1.0033095689003488,
           0.8737514471597336,
           0.1964653470455317,
           0.7598893230269823,
           0.7141266271402884,
           0.5831328494687824,
           0.1994757924398413,
           0.6813720349753964,
           1.218783521941056,
           0.1953431082664209,
           2.214250627528216,
           1.46326584882884,
           2.10983033138816,
           1.2012775243364473,
           1.2350127928737322,
           1.8573555691106165,
           2.4827500253228365,
           2.43808960247754,
           0.5657203081182445,
           0.107803324527282,
           0.4021414351247685,
           0.6187974254773039,
           0.2796666665765315,
           0.1564979780959277,
           1.5711204326251291,
           1.63382494967221,
           0.6656026010168787,
           0.6985976164638998,
           0.5788675963397623,
           0.8854250673687503,
           1.5331548294717765,
           2.4272248348000147,
           1.4244183185469763,
           1.1524738261968324,
           1.1818329270669423,
           0.0202268705281696,
           0.6823867780712902,
           0.1055826175605361,
           0.3051623593177339,
           0.9786952542681816
          ],
          "colorbar": {
           "title": {
            "text": "degree (Mean)"
           }
          },
          "colorscale": [
           [
            0.0,
            "#0d0887"
           ],
           [
            0.1111111111111111,
            "#46039f"
           ],
           [
            0.2222222222222222,
            "#7201a8"
           ],
           [
            0.3333333333333333,
            "#9c179e"
           ],
           [
            0.4444444444444444,
            "#bd3786"
           ],
           [
            0.5555555555555556,
            "#d8576b"
           ],
           [
            0.6666666666666666,
            "#ed7953"
           ],
           [
            0.7777777777777778,
            "#fb9f3a"
           ],
           [
            0.8888888888888888,
            "#fdca26"
           ],
           [
            1.0,
            "#f0f921"
           ]
          ],
          "size": 10
         },
         "mode": "markers+text",
         "name": "Nodes (degree - Mean)",
         "text": [
          "1",
          "2",
          "3",
          "4",
          "5",
          "6",
          "7",
          "8",
          "9",
          "10",
          "11",
          "12",
          "13",
          "14",
          "15",
          "16",
          "17",
          "18",
          "19",
          "20",
          "21",
          "22",
          "23",
          "24",
          "25",
          "26",
          "27",
          "28",
          "29",
          "30",
          "31",
          "32",
          "33",
          "34",
          "35",
          "36",
          "37",
          "38",
          "39",
          "40",
          "41",
          "42",
          "43",
          "44",
          "45",
          "46",
          "47",
          "48",
          "49",
          "50",
          "51",
          "52",
          "53",
          "54",
          "55",
          "56",
          "57",
          "58",
          "59",
          "60",
          "61",
          "62",
          "63",
          "64",
          "65",
          "66",
          "67",
          "68",
          "69",
          "70",
          "71",
          "72",
          "73",
          "74",
          "75",
          "76",
          "77",
          "78",
          "79",
          "80",
          "81",
          "82",
          "83",
          "84",
          "85",
          "86",
          "87",
          "88",
          "89",
          "90",
          "91",
          "92",
          "93",
          "94",
          "95",
          "96",
          "97",
          "98",
          "99",
          "100",
          "101",
          "102",
          "103",
          "104",
          "105",
          "106",
          "107",
          "108",
          "109",
          "110",
          "111",
          "112",
          "113",
          "114",
          "115",
          "116"
         ],
         "textposition": "top center",
         "x": [
          -38.65,
          41.37,
          -18.45,
          21.9,
          -16.56,
          18.49,
          -33.43,
          37.59,
          -30.65,
          33.18,
          -48.43,
          50.2,
          -45.58,
          50.33,
          -35.98,
          41.22,
          -47.16,
          52.65,
          -5.32,
          8.62,
          -8.06,
          10.43,
          -4.8,
          9.1,
          -5.17,
          8.16,
          -5.08,
          8.35,
          -35.13,
          39.02,
          -4.04,
          8.46,
          -5.48,
          8.02,
          -4.85,
          7.44,
          -25.03,
          29.23,
          -21.17,
          25.38,
          -23.27,
          27.32,
          -7.14,
          15.99,
          -5.93,
          13.51,
          -14.62,
          16.29,
          -16.54,
          24.29,
          -32.39,
          37.39,
          -36.36,
          38.16,
          -31.16,
          33.97,
          -42.46,
          41.43,
          -23.45,
          26.11,
          -42.8,
          46.46,
          -55.79,
          57.61,
          -44.14,
          45.51,
          -7.24,
          9.98,
          -7.63,
          7.48,
          -11.46,
          14.84,
          -23.91,
          27.78,
          -17.75,
          21.2,
          -10.85,
          13.0,
          -41.99,
          45.86,
          -53.16,
          58.15,
          -39.88,
          48.25,
          -55.52,
          57.47,
          -36.32,
          44.22,
          -49.77,
          53.69,
          -36.067,
          37.456,
          -28.636,
          32.057,
          -8.8004,
          12.319,
          -15.004,
          17.199,
          -23.238,
          24.691,
          -32.358,
          33.139,
          -25.751,
          25.064,
          -10.947,
          9.4602,
          -22.614,
          25.995,
          0.75743,
          1.3804,
          1.2207,
          1.1414,
          1.1458,
          1.1521,
          0.86467,
          0.35584
         ],
         "y": [
          -5.68,
          -8.21,
          34.81,
          31.12,
          47.32,
          48.1,
          32.73,
          33.06,
          50.43,
          52.59,
          12.73,
          14.98,
          29.91,
          30.16,
          30.71,
          32.23,
          -8.48,
          -6.25,
          4.85,
          0.17,
          15.05,
          15.91,
          49.17,
          50.84,
          54.06,
          51.67,
          37.07,
          35.64,
          6.65,
          6.25,
          35.4,
          37.01,
          -14.92,
          -8.83,
          -42.92,
          -41.81,
          -20.74,
          -19.78,
          -15.95,
          -15.15,
          -0.67,
          0.64,
          -78.67,
          -73.15,
          -80.13,
          -79.36,
          -67.56,
          -66.93,
          -84.26,
          -80.85,
          -80.73,
          -79.7,
          -78.29,
          -81.99,
          -40.3,
          -39.1,
          -22.63,
          -25.49,
          -59.56,
          -59.18,
          -45.82,
          -46.29,
          -33.64,
          -31.5,
          -60.82,
          -59.98,
          -56.07,
          -56.05,
          -25.36,
          -31.59,
          11.0,
          12.07,
          3.86,
          4.91,
          -0.03,
          0.18,
          -17.56,
          -17.55,
          -18.88,
          -17.15,
          -20.68,
          -21.78,
          15.14,
          14.75,
          -33.8,
          -37.23,
          14.59,
          14.55,
          -28.05,
          -31.07,
          -66.72,
          -67.137,
          -73.26,
          -69.016,
          -37.223,
          -34.466,
          -43.486,
          -42.861,
          -59.101,
          -58.316,
          -59.82,
          -63.178,
          -54.519,
          -56.34,
          -48.95,
          -49.5,
          -33.8,
          -33.838,
          -38.792,
          -39.931,
          -52.362,
          -67.059,
          -71.93,
          -64.429,
          -54.875,
          -45.8
         ],
         "z": [
          50.94,
          52.09,
          42.2,
          43.82,
          -13.31,
          -14.02,
          35.46,
          34.04,
          -9.62,
          -10.73,
          19.02,
          21.41,
          13.99,
          14.17,
          -12.11,
          -11.91,
          13.95,
          14.63,
          61.38,
          61.85,
          -11.46,
          -11.26,
          30.89,
          30.22,
          -7.4,
          -7.13,
          -18.14,
          -18.04,
          3.44,
          2.08,
          13.95,
          15.84,
          41.57,
          39.79,
          24.67,
          21.87,
          -10.13,
          -10.33,
          -20.7,
          -20.47,
          -17.14,
          -17.5,
          6.44,
          9.4,
          27.22,
          28.23,
          -4.63,
          -3.87,
          28.17,
          30.59,
          16.11,
          19.42,
          -7.84,
          -7.61,
          -20.23,
          -20.18,
          48.92,
          52.55,
          58.96,
          62.06,
          46.74,
          49.54,
          30.45,
          34.48,
          35.59,
          38.63,
          48.01,
          43.77,
          70.07,
          68.09,
          9.24,
          9.42,
          2.4,
          2.46,
          0.21,
          0.23,
          7.98,
          8.09,
          9.98,
          10.41,
          7.13,
          6.8,
          -20.18,
          -16.86,
          -2.2,
          -1.47,
          -34.08,
          -32.23,
          -23.17,
          -22.32,
          -28.934,
          -29.547,
          -38.204,
          -39.949,
          -18.581,
          -19.391,
          -16.933,
          -18.151,
          -22.131,
          -23.645,
          -45.449,
          -48.457,
          -47.685,
          -49.468,
          -45.903,
          -46.327,
          -41.765,
          -41.347,
          -20.05,
          -11.398,
          -6.1138,
          -15.123,
          -25.141,
          -34.08,
          -34.896,
          -31.683
         ],
         "type": "scatter3d"
        }
       ],
       "layout": {
        "scene": {
         "xaxis": {
          "title": {
           "text": "X"
          }
         },
         "yaxis": {
          "title": {
           "text": "Y"
          }
         },
         "zaxis": {
          "title": {
           "text": "Z"
          }
         }
        },
        "showlegend": true,
        "title": {
         "text": "Graph Colored by Degree - Mean"
        },
        "template": {
         "data": {
          "histogram2dcontour": [
           {
            "type": "histogram2dcontour",
            "colorbar": {
             "outlinewidth": 0,
             "ticks": ""
            },
            "colorscale": [
             [
              0.0,
              "#0d0887"
             ],
             [
              0.1111111111111111,
              "#46039f"
             ],
             [
              0.2222222222222222,
              "#7201a8"
             ],
             [
              0.3333333333333333,
              "#9c179e"
             ],
             [
              0.4444444444444444,
              "#bd3786"
             ],
             [
              0.5555555555555556,
              "#d8576b"
             ],
             [
              0.6666666666666666,
              "#ed7953"
             ],
             [
              0.7777777777777778,
              "#fb9f3a"
             ],
             [
              0.8888888888888888,
              "#fdca26"
             ],
             [
              1.0,
              "#f0f921"
             ]
            ]
           }
          ],
          "choropleth": [
           {
            "type": "choropleth",
            "colorbar": {
             "outlinewidth": 0,
             "ticks": ""
            }
           }
          ],
          "histogram2d": [
           {
            "type": "histogram2d",
            "colorbar": {
             "outlinewidth": 0,
             "ticks": ""
            },
            "colorscale": [
             [
              0.0,
              "#0d0887"
             ],
             [
              0.1111111111111111,
              "#46039f"
             ],
             [
              0.2222222222222222,
              "#7201a8"
             ],
             [
              0.3333333333333333,
              "#9c179e"
             ],
             [
              0.4444444444444444,
              "#bd3786"
             ],
             [
              0.5555555555555556,
              "#d8576b"
             ],
             [
              0.6666666666666666,
              "#ed7953"
             ],
             [
              0.7777777777777778,
              "#fb9f3a"
             ],
             [
              0.8888888888888888,
              "#fdca26"
             ],
             [
              1.0,
              "#f0f921"
             ]
            ]
           }
          ],
          "heatmap": [
           {
            "type": "heatmap",
            "colorbar": {
             "outlinewidth": 0,
             "ticks": ""
            },
            "colorscale": [
             [
              0.0,
              "#0d0887"
             ],
             [
              0.1111111111111111,
              "#46039f"
             ],
             [
              0.2222222222222222,
              "#7201a8"
             ],
             [
              0.3333333333333333,
              "#9c179e"
             ],
             [
              0.4444444444444444,
              "#bd3786"
             ],
             [
              0.5555555555555556,
              "#d8576b"
             ],
             [
              0.6666666666666666,
              "#ed7953"
             ],
             [
              0.7777777777777778,
              "#fb9f3a"
             ],
             [
              0.8888888888888888,
              "#fdca26"
             ],
             [
              1.0,
              "#f0f921"
             ]
            ]
           }
          ],
          "heatmapgl": [
           {
            "type": "heatmapgl",
            "colorbar": {
             "outlinewidth": 0,
             "ticks": ""
            },
            "colorscale": [
             [
              0.0,
              "#0d0887"
             ],
             [
              0.1111111111111111,
              "#46039f"
             ],
             [
              0.2222222222222222,
              "#7201a8"
             ],
             [
              0.3333333333333333,
              "#9c179e"
             ],
             [
              0.4444444444444444,
              "#bd3786"
             ],
             [
              0.5555555555555556,
              "#d8576b"
             ],
             [
              0.6666666666666666,
              "#ed7953"
             ],
             [
              0.7777777777777778,
              "#fb9f3a"
             ],
             [
              0.8888888888888888,
              "#fdca26"
             ],
             [
              1.0,
              "#f0f921"
             ]
            ]
           }
          ],
          "contourcarpet": [
           {
            "type": "contourcarpet",
            "colorbar": {
             "outlinewidth": 0,
             "ticks": ""
            }
           }
          ],
          "contour": [
           {
            "type": "contour",
            "colorbar": {
             "outlinewidth": 0,
             "ticks": ""
            },
            "colorscale": [
             [
              0.0,
              "#0d0887"
             ],
             [
              0.1111111111111111,
              "#46039f"
             ],
             [
              0.2222222222222222,
              "#7201a8"
             ],
             [
              0.3333333333333333,
              "#9c179e"
             ],
             [
              0.4444444444444444,
              "#bd3786"
             ],
             [
              0.5555555555555556,
              "#d8576b"
             ],
             [
              0.6666666666666666,
              "#ed7953"
             ],
             [
              0.7777777777777778,
              "#fb9f3a"
             ],
             [
              0.8888888888888888,
              "#fdca26"
             ],
             [
              1.0,
              "#f0f921"
             ]
            ]
           }
          ],
          "surface": [
           {
            "type": "surface",
            "colorbar": {
             "outlinewidth": 0,
             "ticks": ""
            },
            "colorscale": [
             [
              0.0,
              "#0d0887"
             ],
             [
              0.1111111111111111,
              "#46039f"
             ],
             [
              0.2222222222222222,
              "#7201a8"
             ],
             [
              0.3333333333333333,
              "#9c179e"
             ],
             [
              0.4444444444444444,
              "#bd3786"
             ],
             [
              0.5555555555555556,
              "#d8576b"
             ],
             [
              0.6666666666666666,
              "#ed7953"
             ],
             [
              0.7777777777777778,
              "#fb9f3a"
             ],
             [
              0.8888888888888888,
              "#fdca26"
             ],
             [
              1.0,
              "#f0f921"
             ]
            ]
           }
          ],
          "mesh3d": [
           {
            "type": "mesh3d",
            "colorbar": {
             "outlinewidth": 0,
             "ticks": ""
            }
           }
          ],
          "scatter": [
           {
            "marker": {
             "line": {
              "color": "#283442"
             }
            },
            "type": "scatter"
           }
          ],
          "parcoords": [
           {
            "type": "parcoords",
            "line": {
             "colorbar": {
              "outlinewidth": 0,
              "ticks": ""
             }
            }
           }
          ],
          "scatterpolargl": [
           {
            "type": "scatterpolargl",
            "marker": {
             "colorbar": {
              "outlinewidth": 0,
              "ticks": ""
             }
            }
           }
          ],
          "bar": [
           {
            "error_x": {
             "color": "#f2f5fa"
            },
            "error_y": {
             "color": "#f2f5fa"
            },
            "marker": {
             "line": {
              "color": "rgb(17,17,17)",
              "width": 0.5
             },
             "pattern": {
              "fillmode": "overlay",
              "size": 10,
              "solidity": 0.2
             }
            },
            "type": "bar"
           }
          ],
          "scattergeo": [
           {
            "type": "scattergeo",
            "marker": {
             "colorbar": {
              "outlinewidth": 0,
              "ticks": ""
             }
            }
           }
          ],
          "scatterpolar": [
           {
            "type": "scatterpolar",
            "marker": {
             "colorbar": {
              "outlinewidth": 0,
              "ticks": ""
             }
            }
           }
          ],
          "histogram": [
           {
            "marker": {
             "pattern": {
              "fillmode": "overlay",
              "size": 10,
              "solidity": 0.2
             }
            },
            "type": "histogram"
           }
          ],
          "scattergl": [
           {
            "marker": {
             "line": {
              "color": "#283442"
             }
            },
            "type": "scattergl"
           }
          ],
          "scatter3d": [
           {
            "type": "scatter3d",
            "line": {
             "colorbar": {
              "outlinewidth": 0,
              "ticks": ""
             }
            },
            "marker": {
             "colorbar": {
              "outlinewidth": 0,
              "ticks": ""
             }
            }
           }
          ],
          "scattermapbox": [
           {
            "type": "scattermapbox",
            "marker": {
             "colorbar": {
              "outlinewidth": 0,
              "ticks": ""
             }
            }
           }
          ],
          "scatterternary": [
           {
            "type": "scatterternary",
            "marker": {
             "colorbar": {
              "outlinewidth": 0,
              "ticks": ""
             }
            }
           }
          ],
          "scattercarpet": [
           {
            "type": "scattercarpet",
            "marker": {
             "colorbar": {
              "outlinewidth": 0,
              "ticks": ""
             }
            }
           }
          ],
          "carpet": [
           {
            "aaxis": {
             "endlinecolor": "#A2B1C6",
             "gridcolor": "#506784",
             "linecolor": "#506784",
             "minorgridcolor": "#506784",
             "startlinecolor": "#A2B1C6"
            },
            "baxis": {
             "endlinecolor": "#A2B1C6",
             "gridcolor": "#506784",
             "linecolor": "#506784",
             "minorgridcolor": "#506784",
             "startlinecolor": "#A2B1C6"
            },
            "type": "carpet"
           }
          ],
          "table": [
           {
            "cells": {
             "fill": {
              "color": "#506784"
             },
             "line": {
              "color": "rgb(17,17,17)"
             }
            },
            "header": {
             "fill": {
              "color": "#2a3f5f"
             },
             "line": {
              "color": "rgb(17,17,17)"
             }
            },
            "type": "table"
           }
          ],
          "barpolar": [
           {
            "marker": {
             "line": {
              "color": "rgb(17,17,17)",
              "width": 0.5
             },
             "pattern": {
              "fillmode": "overlay",
              "size": 10,
              "solidity": 0.2
             }
            },
            "type": "barpolar"
           }
          ],
          "pie": [
           {
            "automargin": true,
            "type": "pie"
           }
          ]
         },
         "layout": {
          "autotypenumbers": "strict",
          "colorway": [
           "#636efa",
           "#EF553B",
           "#00cc96",
           "#ab63fa",
           "#FFA15A",
           "#19d3f3",
           "#FF6692",
           "#B6E880",
           "#FF97FF",
           "#FECB52"
          ],
          "font": {
           "color": "#f2f5fa"
          },
          "hovermode": "closest",
          "hoverlabel": {
           "align": "left"
          },
          "paper_bgcolor": "rgb(17,17,17)",
          "plot_bgcolor": "rgb(17,17,17)",
          "polar": {
           "bgcolor": "rgb(17,17,17)",
           "angularaxis": {
            "gridcolor": "#506784",
            "linecolor": "#506784",
            "ticks": ""
           },
           "radialaxis": {
            "gridcolor": "#506784",
            "linecolor": "#506784",
            "ticks": ""
           }
          },
          "ternary": {
           "bgcolor": "rgb(17,17,17)",
           "aaxis": {
            "gridcolor": "#506784",
            "linecolor": "#506784",
            "ticks": ""
           },
           "baxis": {
            "gridcolor": "#506784",
            "linecolor": "#506784",
            "ticks": ""
           },
           "caxis": {
            "gridcolor": "#506784",
            "linecolor": "#506784",
            "ticks": ""
           }
          },
          "coloraxis": {
           "colorbar": {
            "outlinewidth": 0,
            "ticks": ""
           }
          },
          "colorscale": {
           "sequential": [
            [
             0.0,
             "#0d0887"
            ],
            [
             0.1111111111111111,
             "#46039f"
            ],
            [
             0.2222222222222222,
             "#7201a8"
            ],
            [
             0.3333333333333333,
             "#9c179e"
            ],
            [
             0.4444444444444444,
             "#bd3786"
            ],
            [
             0.5555555555555556,
             "#d8576b"
            ],
            [
             0.6666666666666666,
             "#ed7953"
            ],
            [
             0.7777777777777778,
             "#fb9f3a"
            ],
            [
             0.8888888888888888,
             "#fdca26"
            ],
            [
             1.0,
             "#f0f921"
            ]
           ],
           "sequentialminus": [
            [
             0.0,
             "#0d0887"
            ],
            [
             0.1111111111111111,
             "#46039f"
            ],
            [
             0.2222222222222222,
             "#7201a8"
            ],
            [
             0.3333333333333333,
             "#9c179e"
            ],
            [
             0.4444444444444444,
             "#bd3786"
            ],
            [
             0.5555555555555556,
             "#d8576b"
            ],
            [
             0.6666666666666666,
             "#ed7953"
            ],
            [
             0.7777777777777778,
             "#fb9f3a"
            ],
            [
             0.8888888888888888,
             "#fdca26"
            ],
            [
             1.0,
             "#f0f921"
            ]
           ],
           "diverging": [
            [
             0,
             "#8e0152"
            ],
            [
             0.1,
             "#c51b7d"
            ],
            [
             0.2,
             "#de77ae"
            ],
            [
             0.3,
             "#f1b6da"
            ],
            [
             0.4,
             "#fde0ef"
            ],
            [
             0.5,
             "#f7f7f7"
            ],
            [
             0.6,
             "#e6f5d0"
            ],
            [
             0.7,
             "#b8e186"
            ],
            [
             0.8,
             "#7fbc41"
            ],
            [
             0.9,
             "#4d9221"
            ],
            [
             1,
             "#276419"
            ]
           ]
          },
          "xaxis": {
           "gridcolor": "#283442",
           "linecolor": "#506784",
           "ticks": "",
           "title": {
            "standoff": 15
           },
           "zerolinecolor": "#283442",
           "automargin": true,
           "zerolinewidth": 2
          },
          "yaxis": {
           "gridcolor": "#283442",
           "linecolor": "#506784",
           "ticks": "",
           "title": {
            "standoff": 15
           },
           "zerolinecolor": "#283442",
           "automargin": true,
           "zerolinewidth": 2
          },
          "scene": {
           "xaxis": {
            "backgroundcolor": "rgb(17,17,17)",
            "gridcolor": "#506784",
            "linecolor": "#506784",
            "showbackground": true,
            "ticks": "",
            "zerolinecolor": "#C8D4E3",
            "gridwidth": 2
           },
           "yaxis": {
            "backgroundcolor": "rgb(17,17,17)",
            "gridcolor": "#506784",
            "linecolor": "#506784",
            "showbackground": true,
            "ticks": "",
            "zerolinecolor": "#C8D4E3",
            "gridwidth": 2
           },
           "zaxis": {
            "backgroundcolor": "rgb(17,17,17)",
            "gridcolor": "#506784",
            "linecolor": "#506784",
            "showbackground": true,
            "ticks": "",
            "zerolinecolor": "#C8D4E3",
            "gridwidth": 2
           }
          },
          "shapedefaults": {
           "line": {
            "color": "#f2f5fa"
           }
          },
          "annotationdefaults": {
           "arrowcolor": "#f2f5fa",
           "arrowhead": 0,
           "arrowwidth": 1
          },
          "geo": {
           "bgcolor": "rgb(17,17,17)",
           "landcolor": "rgb(17,17,17)",
           "subunitcolor": "#506784",
           "showland": true,
           "showlakes": true,
           "lakecolor": "rgb(17,17,17)"
          },
          "title": {
           "x": 0.05
          },
          "updatemenudefaults": {
           "bgcolor": "#506784",
           "borderwidth": 0
          },
          "sliderdefaults": {
           "bgcolor": "#C8D4E3",
           "borderwidth": 1,
           "bordercolor": "rgb(17,17,17)",
           "tickwidth": 0
          },
          "mapbox": {
           "style": "dark"
          }
         }
        }
       },
       "config": {
        "plotlyServerURL": "https://plot.ly"
       }
      },
      "text/html": [
       "<div>                            <div id=\"2d083736-edca-48c3-a200-3e39aeb64383\" class=\"plotly-graph-div\" style=\"height:525px; width:100%;\"></div>            <script type=\"text/javascript\">                require([\"plotly\"], function(Plotly) {                    window.PLOTLYENV=window.PLOTLYENV || {};                                    if (document.getElementById(\"2d083736-edca-48c3-a200-3e39aeb64383\")) {                    Plotly.newPlot(                        \"2d083736-edca-48c3-a200-3e39aeb64383\",                        [{\"line\":{\"color\":\"black\",\"width\":2},\"mode\":\"lines\",\"name\":\"Edges\",\"x\":[],\"y\":[],\"z\":[],\"type\":\"scatter3d\"},{\"marker\":{\"color\":[1.1375210118999846,0.8272122401132123,1.028888913909853,0.9128384080681188,1.1615633221605464,1.341742850758898,0.9142401527871584,1.029961213151232,0.7541765290305733,0.7331112908392043,1.6499772453706925,1.0168978754544469,1.2412017031416838,1.300689860834808,0.0042187979598935,0.0660241083036368,0.4782839900342708,0.7260002855237246,1.4544061164566031,1.4435282752154563,0.832571203898965,0.7988885906960661,1.8429314105147512,1.531799200151454,0.5179637468049947,0.1099422341678035,1.886590133650003,1.660442926078339,0.6294051216881371,0.1454618902050128,0.6119535053889678,1.1936371198273434,0.1583759108330156,0.4124325317149413,0.6064194784435131,0.4725497605504074,0.4152803369936748,0.2789088612410211,1.2133931162271736,1.9973986651395208,0.7909434304030327,0.2736461700378712,1.031068723781246,0.976341854279994,0.8800205934315528,0.1596802236089729,0.0513151062215655,0.6130019943987719,0.8221235582637831,0.7788165840363916,0.3410872967562142,0.963492958450516,1.8291969830061063,1.2515523272903124,2.0419092339813005,0.790310250369167,0.0552533409704238,0.0502646679730673,0.2270943864888792,0.077355881850913,0.0310273301895591,0.0811284030959882,0.4344510282975733,0.1438500546720291,0.9482475733911286,0.3050002763542068,0.7683001544948382,0.3166287596412473,0.4125950867406729,1.1890333329336684,0.8003788608418319,0.7688707821374976,0.2310098351739924,0.1155811842180156,0.7226300426652585,0.2203657847041285,1.0033095689003488,0.8737514471597336,0.1964653470455317,0.7598893230269823,0.7141266271402884,0.5831328494687824,0.1994757924398413,0.6813720349753964,1.218783521941056,0.1953431082664209,2.214250627528216,1.46326584882884,2.10983033138816,1.2012775243364473,1.2350127928737322,1.8573555691106165,2.4827500253228365,2.43808960247754,0.5657203081182445,0.107803324527282,0.4021414351247685,0.6187974254773039,0.2796666665765315,0.1564979780959277,1.5711204326251291,1.63382494967221,0.6656026010168787,0.6985976164638998,0.5788675963397623,0.8854250673687503,1.5331548294717765,2.4272248348000147,1.4244183185469763,1.1524738261968324,1.1818329270669423,0.0202268705281696,0.6823867780712902,0.1055826175605361,0.3051623593177339,0.9786952542681816],\"colorbar\":{\"title\":{\"text\":\"degree (Mean)\"}},\"colorscale\":[[0.0,\"#0d0887\"],[0.1111111111111111,\"#46039f\"],[0.2222222222222222,\"#7201a8\"],[0.3333333333333333,\"#9c179e\"],[0.4444444444444444,\"#bd3786\"],[0.5555555555555556,\"#d8576b\"],[0.6666666666666666,\"#ed7953\"],[0.7777777777777778,\"#fb9f3a\"],[0.8888888888888888,\"#fdca26\"],[1.0,\"#f0f921\"]],\"size\":10},\"mode\":\"markers+text\",\"name\":\"Nodes (degree - Mean)\",\"text\":[\"1\",\"2\",\"3\",\"4\",\"5\",\"6\",\"7\",\"8\",\"9\",\"10\",\"11\",\"12\",\"13\",\"14\",\"15\",\"16\",\"17\",\"18\",\"19\",\"20\",\"21\",\"22\",\"23\",\"24\",\"25\",\"26\",\"27\",\"28\",\"29\",\"30\",\"31\",\"32\",\"33\",\"34\",\"35\",\"36\",\"37\",\"38\",\"39\",\"40\",\"41\",\"42\",\"43\",\"44\",\"45\",\"46\",\"47\",\"48\",\"49\",\"50\",\"51\",\"52\",\"53\",\"54\",\"55\",\"56\",\"57\",\"58\",\"59\",\"60\",\"61\",\"62\",\"63\",\"64\",\"65\",\"66\",\"67\",\"68\",\"69\",\"70\",\"71\",\"72\",\"73\",\"74\",\"75\",\"76\",\"77\",\"78\",\"79\",\"80\",\"81\",\"82\",\"83\",\"84\",\"85\",\"86\",\"87\",\"88\",\"89\",\"90\",\"91\",\"92\",\"93\",\"94\",\"95\",\"96\",\"97\",\"98\",\"99\",\"100\",\"101\",\"102\",\"103\",\"104\",\"105\",\"106\",\"107\",\"108\",\"109\",\"110\",\"111\",\"112\",\"113\",\"114\",\"115\",\"116\"],\"textposition\":\"top center\",\"x\":[-38.65,41.37,-18.45,21.9,-16.56,18.49,-33.43,37.59,-30.65,33.18,-48.43,50.2,-45.58,50.33,-35.98,41.22,-47.16,52.65,-5.32,8.62,-8.06,10.43,-4.8,9.1,-5.17,8.16,-5.08,8.35,-35.13,39.02,-4.04,8.46,-5.48,8.02,-4.85,7.44,-25.03,29.23,-21.17,25.38,-23.27,27.32,-7.14,15.99,-5.93,13.51,-14.62,16.29,-16.54,24.29,-32.39,37.39,-36.36,38.16,-31.16,33.97,-42.46,41.43,-23.45,26.11,-42.8,46.46,-55.79,57.61,-44.14,45.51,-7.24,9.98,-7.63,7.48,-11.46,14.84,-23.91,27.78,-17.75,21.2,-10.85,13.0,-41.99,45.86,-53.16,58.15,-39.88,48.25,-55.52,57.47,-36.32,44.22,-49.77,53.69,-36.067,37.456,-28.636,32.057,-8.8004,12.319,-15.004,17.199,-23.238,24.691,-32.358,33.139,-25.751,25.064,-10.947,9.4602,-22.614,25.995,0.75743,1.3804,1.2207,1.1414,1.1458,1.1521,0.86467,0.35584],\"y\":[-5.68,-8.21,34.81,31.12,47.32,48.1,32.73,33.06,50.43,52.59,12.73,14.98,29.91,30.16,30.71,32.23,-8.48,-6.25,4.85,0.17,15.05,15.91,49.17,50.84,54.06,51.67,37.07,35.64,6.65,6.25,35.4,37.01,-14.92,-8.83,-42.92,-41.81,-20.74,-19.78,-15.95,-15.15,-0.67,0.64,-78.67,-73.15,-80.13,-79.36,-67.56,-66.93,-84.26,-80.85,-80.73,-79.7,-78.29,-81.99,-40.3,-39.1,-22.63,-25.49,-59.56,-59.18,-45.82,-46.29,-33.64,-31.5,-60.82,-59.98,-56.07,-56.05,-25.36,-31.59,11.0,12.07,3.86,4.91,-0.03,0.18,-17.56,-17.55,-18.88,-17.15,-20.68,-21.78,15.14,14.75,-33.8,-37.23,14.59,14.55,-28.05,-31.07,-66.72,-67.137,-73.26,-69.016,-37.223,-34.466,-43.486,-42.861,-59.101,-58.316,-59.82,-63.178,-54.519,-56.34,-48.95,-49.5,-33.8,-33.838,-38.792,-39.931,-52.362,-67.059,-71.93,-64.429,-54.875,-45.8],\"z\":[50.94,52.09,42.2,43.82,-13.31,-14.02,35.46,34.04,-9.62,-10.73,19.02,21.41,13.99,14.17,-12.11,-11.91,13.95,14.63,61.38,61.85,-11.46,-11.26,30.89,30.22,-7.4,-7.13,-18.14,-18.04,3.44,2.08,13.95,15.84,41.57,39.79,24.67,21.87,-10.13,-10.33,-20.7,-20.47,-17.14,-17.5,6.44,9.4,27.22,28.23,-4.63,-3.87,28.17,30.59,16.11,19.42,-7.84,-7.61,-20.23,-20.18,48.92,52.55,58.96,62.06,46.74,49.54,30.45,34.48,35.59,38.63,48.01,43.77,70.07,68.09,9.24,9.42,2.4,2.46,0.21,0.23,7.98,8.09,9.98,10.41,7.13,6.8,-20.18,-16.86,-2.2,-1.47,-34.08,-32.23,-23.17,-22.32,-28.934,-29.547,-38.204,-39.949,-18.581,-19.391,-16.933,-18.151,-22.131,-23.645,-45.449,-48.457,-47.685,-49.468,-45.903,-46.327,-41.765,-41.347,-20.05,-11.398,-6.1138,-15.123,-25.141,-34.08,-34.896,-31.683],\"type\":\"scatter3d\"}],                        {\"scene\":{\"xaxis\":{\"title\":{\"text\":\"X\"}},\"yaxis\":{\"title\":{\"text\":\"Y\"}},\"zaxis\":{\"title\":{\"text\":\"Z\"}}},\"showlegend\":true,\"title\":{\"text\":\"Graph Colored by Degree - Mean\"},\"template\":{\"data\":{\"histogram2dcontour\":[{\"type\":\"histogram2dcontour\",\"colorbar\":{\"outlinewidth\":0,\"ticks\":\"\"},\"colorscale\":[[0.0,\"#0d0887\"],[0.1111111111111111,\"#46039f\"],[0.2222222222222222,\"#7201a8\"],[0.3333333333333333,\"#9c179e\"],[0.4444444444444444,\"#bd3786\"],[0.5555555555555556,\"#d8576b\"],[0.6666666666666666,\"#ed7953\"],[0.7777777777777778,\"#fb9f3a\"],[0.8888888888888888,\"#fdca26\"],[1.0,\"#f0f921\"]]}],\"choropleth\":[{\"type\":\"choropleth\",\"colorbar\":{\"outlinewidth\":0,\"ticks\":\"\"}}],\"histogram2d\":[{\"type\":\"histogram2d\",\"colorbar\":{\"outlinewidth\":0,\"ticks\":\"\"},\"colorscale\":[[0.0,\"#0d0887\"],[0.1111111111111111,\"#46039f\"],[0.2222222222222222,\"#7201a8\"],[0.3333333333333333,\"#9c179e\"],[0.4444444444444444,\"#bd3786\"],[0.5555555555555556,\"#d8576b\"],[0.6666666666666666,\"#ed7953\"],[0.7777777777777778,\"#fb9f3a\"],[0.8888888888888888,\"#fdca26\"],[1.0,\"#f0f921\"]]}],\"heatmap\":[{\"type\":\"heatmap\",\"colorbar\":{\"outlinewidth\":0,\"ticks\":\"\"},\"colorscale\":[[0.0,\"#0d0887\"],[0.1111111111111111,\"#46039f\"],[0.2222222222222222,\"#7201a8\"],[0.3333333333333333,\"#9c179e\"],[0.4444444444444444,\"#bd3786\"],[0.5555555555555556,\"#d8576b\"],[0.6666666666666666,\"#ed7953\"],[0.7777777777777778,\"#fb9f3a\"],[0.8888888888888888,\"#fdca26\"],[1.0,\"#f0f921\"]]}],\"heatmapgl\":[{\"type\":\"heatmapgl\",\"colorbar\":{\"outlinewidth\":0,\"ticks\":\"\"},\"colorscale\":[[0.0,\"#0d0887\"],[0.1111111111111111,\"#46039f\"],[0.2222222222222222,\"#7201a8\"],[0.3333333333333333,\"#9c179e\"],[0.4444444444444444,\"#bd3786\"],[0.5555555555555556,\"#d8576b\"],[0.6666666666666666,\"#ed7953\"],[0.7777777777777778,\"#fb9f3a\"],[0.8888888888888888,\"#fdca26\"],[1.0,\"#f0f921\"]]}],\"contourcarpet\":[{\"type\":\"contourcarpet\",\"colorbar\":{\"outlinewidth\":0,\"ticks\":\"\"}}],\"contour\":[{\"type\":\"contour\",\"colorbar\":{\"outlinewidth\":0,\"ticks\":\"\"},\"colorscale\":[[0.0,\"#0d0887\"],[0.1111111111111111,\"#46039f\"],[0.2222222222222222,\"#7201a8\"],[0.3333333333333333,\"#9c179e\"],[0.4444444444444444,\"#bd3786\"],[0.5555555555555556,\"#d8576b\"],[0.6666666666666666,\"#ed7953\"],[0.7777777777777778,\"#fb9f3a\"],[0.8888888888888888,\"#fdca26\"],[1.0,\"#f0f921\"]]}],\"surface\":[{\"type\":\"surface\",\"colorbar\":{\"outlinewidth\":0,\"ticks\":\"\"},\"colorscale\":[[0.0,\"#0d0887\"],[0.1111111111111111,\"#46039f\"],[0.2222222222222222,\"#7201a8\"],[0.3333333333333333,\"#9c179e\"],[0.4444444444444444,\"#bd3786\"],[0.5555555555555556,\"#d8576b\"],[0.6666666666666666,\"#ed7953\"],[0.7777777777777778,\"#fb9f3a\"],[0.8888888888888888,\"#fdca26\"],[1.0,\"#f0f921\"]]}],\"mesh3d\":[{\"type\":\"mesh3d\",\"colorbar\":{\"outlinewidth\":0,\"ticks\":\"\"}}],\"scatter\":[{\"marker\":{\"line\":{\"color\":\"#283442\"}},\"type\":\"scatter\"}],\"parcoords\":[{\"type\":\"parcoords\",\"line\":{\"colorbar\":{\"outlinewidth\":0,\"ticks\":\"\"}}}],\"scatterpolargl\":[{\"type\":\"scatterpolargl\",\"marker\":{\"colorbar\":{\"outlinewidth\":0,\"ticks\":\"\"}}}],\"bar\":[{\"error_x\":{\"color\":\"#f2f5fa\"},\"error_y\":{\"color\":\"#f2f5fa\"},\"marker\":{\"line\":{\"color\":\"rgb(17,17,17)\",\"width\":0.5},\"pattern\":{\"fillmode\":\"overlay\",\"size\":10,\"solidity\":0.2}},\"type\":\"bar\"}],\"scattergeo\":[{\"type\":\"scattergeo\",\"marker\":{\"colorbar\":{\"outlinewidth\":0,\"ticks\":\"\"}}}],\"scatterpolar\":[{\"type\":\"scatterpolar\",\"marker\":{\"colorbar\":{\"outlinewidth\":0,\"ticks\":\"\"}}}],\"histogram\":[{\"marker\":{\"pattern\":{\"fillmode\":\"overlay\",\"size\":10,\"solidity\":0.2}},\"type\":\"histogram\"}],\"scattergl\":[{\"marker\":{\"line\":{\"color\":\"#283442\"}},\"type\":\"scattergl\"}],\"scatter3d\":[{\"type\":\"scatter3d\",\"line\":{\"colorbar\":{\"outlinewidth\":0,\"ticks\":\"\"}},\"marker\":{\"colorbar\":{\"outlinewidth\":0,\"ticks\":\"\"}}}],\"scattermapbox\":[{\"type\":\"scattermapbox\",\"marker\":{\"colorbar\":{\"outlinewidth\":0,\"ticks\":\"\"}}}],\"scatterternary\":[{\"type\":\"scatterternary\",\"marker\":{\"colorbar\":{\"outlinewidth\":0,\"ticks\":\"\"}}}],\"scattercarpet\":[{\"type\":\"scattercarpet\",\"marker\":{\"colorbar\":{\"outlinewidth\":0,\"ticks\":\"\"}}}],\"carpet\":[{\"aaxis\":{\"endlinecolor\":\"#A2B1C6\",\"gridcolor\":\"#506784\",\"linecolor\":\"#506784\",\"minorgridcolor\":\"#506784\",\"startlinecolor\":\"#A2B1C6\"},\"baxis\":{\"endlinecolor\":\"#A2B1C6\",\"gridcolor\":\"#506784\",\"linecolor\":\"#506784\",\"minorgridcolor\":\"#506784\",\"startlinecolor\":\"#A2B1C6\"},\"type\":\"carpet\"}],\"table\":[{\"cells\":{\"fill\":{\"color\":\"#506784\"},\"line\":{\"color\":\"rgb(17,17,17)\"}},\"header\":{\"fill\":{\"color\":\"#2a3f5f\"},\"line\":{\"color\":\"rgb(17,17,17)\"}},\"type\":\"table\"}],\"barpolar\":[{\"marker\":{\"line\":{\"color\":\"rgb(17,17,17)\",\"width\":0.5},\"pattern\":{\"fillmode\":\"overlay\",\"size\":10,\"solidity\":0.2}},\"type\":\"barpolar\"}],\"pie\":[{\"automargin\":true,\"type\":\"pie\"}]},\"layout\":{\"autotypenumbers\":\"strict\",\"colorway\":[\"#636efa\",\"#EF553B\",\"#00cc96\",\"#ab63fa\",\"#FFA15A\",\"#19d3f3\",\"#FF6692\",\"#B6E880\",\"#FF97FF\",\"#FECB52\"],\"font\":{\"color\":\"#f2f5fa\"},\"hovermode\":\"closest\",\"hoverlabel\":{\"align\":\"left\"},\"paper_bgcolor\":\"rgb(17,17,17)\",\"plot_bgcolor\":\"rgb(17,17,17)\",\"polar\":{\"bgcolor\":\"rgb(17,17,17)\",\"angularaxis\":{\"gridcolor\":\"#506784\",\"linecolor\":\"#506784\",\"ticks\":\"\"},\"radialaxis\":{\"gridcolor\":\"#506784\",\"linecolor\":\"#506784\",\"ticks\":\"\"}},\"ternary\":{\"bgcolor\":\"rgb(17,17,17)\",\"aaxis\":{\"gridcolor\":\"#506784\",\"linecolor\":\"#506784\",\"ticks\":\"\"},\"baxis\":{\"gridcolor\":\"#506784\",\"linecolor\":\"#506784\",\"ticks\":\"\"},\"caxis\":{\"gridcolor\":\"#506784\",\"linecolor\":\"#506784\",\"ticks\":\"\"}},\"coloraxis\":{\"colorbar\":{\"outlinewidth\":0,\"ticks\":\"\"}},\"colorscale\":{\"sequential\":[[0.0,\"#0d0887\"],[0.1111111111111111,\"#46039f\"],[0.2222222222222222,\"#7201a8\"],[0.3333333333333333,\"#9c179e\"],[0.4444444444444444,\"#bd3786\"],[0.5555555555555556,\"#d8576b\"],[0.6666666666666666,\"#ed7953\"],[0.7777777777777778,\"#fb9f3a\"],[0.8888888888888888,\"#fdca26\"],[1.0,\"#f0f921\"]],\"sequentialminus\":[[0.0,\"#0d0887\"],[0.1111111111111111,\"#46039f\"],[0.2222222222222222,\"#7201a8\"],[0.3333333333333333,\"#9c179e\"],[0.4444444444444444,\"#bd3786\"],[0.5555555555555556,\"#d8576b\"],[0.6666666666666666,\"#ed7953\"],[0.7777777777777778,\"#fb9f3a\"],[0.8888888888888888,\"#fdca26\"],[1.0,\"#f0f921\"]],\"diverging\":[[0,\"#8e0152\"],[0.1,\"#c51b7d\"],[0.2,\"#de77ae\"],[0.3,\"#f1b6da\"],[0.4,\"#fde0ef\"],[0.5,\"#f7f7f7\"],[0.6,\"#e6f5d0\"],[0.7,\"#b8e186\"],[0.8,\"#7fbc41\"],[0.9,\"#4d9221\"],[1,\"#276419\"]]},\"xaxis\":{\"gridcolor\":\"#283442\",\"linecolor\":\"#506784\",\"ticks\":\"\",\"title\":{\"standoff\":15},\"zerolinecolor\":\"#283442\",\"automargin\":true,\"zerolinewidth\":2},\"yaxis\":{\"gridcolor\":\"#283442\",\"linecolor\":\"#506784\",\"ticks\":\"\",\"title\":{\"standoff\":15},\"zerolinecolor\":\"#283442\",\"automargin\":true,\"zerolinewidth\":2},\"scene\":{\"xaxis\":{\"backgroundcolor\":\"rgb(17,17,17)\",\"gridcolor\":\"#506784\",\"linecolor\":\"#506784\",\"showbackground\":true,\"ticks\":\"\",\"zerolinecolor\":\"#C8D4E3\",\"gridwidth\":2},\"yaxis\":{\"backgroundcolor\":\"rgb(17,17,17)\",\"gridcolor\":\"#506784\",\"linecolor\":\"#506784\",\"showbackground\":true,\"ticks\":\"\",\"zerolinecolor\":\"#C8D4E3\",\"gridwidth\":2},\"zaxis\":{\"backgroundcolor\":\"rgb(17,17,17)\",\"gridcolor\":\"#506784\",\"linecolor\":\"#506784\",\"showbackground\":true,\"ticks\":\"\",\"zerolinecolor\":\"#C8D4E3\",\"gridwidth\":2}},\"shapedefaults\":{\"line\":{\"color\":\"#f2f5fa\"}},\"annotationdefaults\":{\"arrowcolor\":\"#f2f5fa\",\"arrowhead\":0,\"arrowwidth\":1},\"geo\":{\"bgcolor\":\"rgb(17,17,17)\",\"landcolor\":\"rgb(17,17,17)\",\"subunitcolor\":\"#506784\",\"showland\":true,\"showlakes\":true,\"lakecolor\":\"rgb(17,17,17)\"},\"title\":{\"x\":0.05},\"updatemenudefaults\":{\"bgcolor\":\"#506784\",\"borderwidth\":0},\"sliderdefaults\":{\"bgcolor\":\"#C8D4E3\",\"borderwidth\":1,\"bordercolor\":\"rgb(17,17,17)\",\"tickwidth\":0},\"mapbox\":{\"style\":\"dark\"}}}},                        {\"responsive\": true}                    ).then(function(){\n",
       "                            \n",
       "var gd = document.getElementById('2d083736-edca-48c3-a200-3e39aeb64383');\n",
       "var x = new MutationObserver(function (mutations, observer) {{\n",
       "        var display = window.getComputedStyle(gd).display;\n",
       "        if (!display || display === 'none') {{\n",
       "            console.log([gd, 'removed!']);\n",
       "            Plotly.purge(gd);\n",
       "            observer.disconnect();\n",
       "        }}\n",
       "}});\n",
       "\n",
       "// Listen for the removal of the full notebook cells\n",
       "var notebookContainer = gd.closest('#notebook-container');\n",
       "if (notebookContainer) {{\n",
       "    x.observe(notebookContainer, {childList: true});\n",
       "}}\n",
       "\n",
       "// Listen for the clearing of the current output cell\n",
       "var outputEl = gd.closest('.output');\n",
       "if (outputEl) {{\n",
       "    x.observe(outputEl, {childList: true});\n",
       "}}\n",
       "\n",
       "                        })                };                });            </script>        </div>"
      ]
     },
     "metadata": {},
     "output_type": "display_data"
    },
    {
     "data": {
      "application/vnd.plotly.v1+json": {
       "data": [
        {
         "line": {
          "color": "black",
          "width": 2
         },
         "mode": "lines",
         "name": "Edges",
         "x": [],
         "y": [],
         "z": [],
         "type": "scatter3d"
        },
        {
         "marker": {
          "color": [
           0.013786692732771,
           0.0113385835191656,
           0.0119756479545167,
           0.0113556710538156,
           0.0119844654346172,
           0.0128464502603736,
           0.0106266902887567,
           0.0112897594128936,
           0.0088482242675921,
           0.0097161121309182,
           0.0151270339694024,
           0.0114632290833526,
           0.0133668965867613,
           0.0132434871003429,
           0.0040821760831217,
           0.0057733955434967,
           0.0071651342772054,
           0.008335963940724,
           0.0163980836245605,
           0.0165176220482627,
           0.009966729186562,
           0.0086328463856086,
           0.0158212831582034,
           0.0140320138999086,
           0.0067855372700272,
           0.0035282531037004,
           0.0174855615329557,
           0.0149802817974328,
           0.0086875300494934,
           0.0052532254101974,
           0.0069897262375242,
           0.0107308548993363,
           0.0074166917601043,
           0.0088653763050899,
           0.001166226743149,
           0.0017457469372768,
           0.0084143720360839,
           0.0075496859613659,
           0.0123354130121926,
           0.0171779605089591,
           0.0098725015833195,
           0.0067522600123343,
           0.0029507910938016,
           0.002150762950202,
           0.001464489985917,
           0.0024803224340305,
           0.002561795197539,
           2.282758121686E-4,
           0.0019473591487529,
           0.0018699541245278,
           1.275879499416E-4,
           0.0026557284780128,
           0.0143958061299285,
           0.0137376991368085,
           0.016991677444702,
           0.0089130559791384,
           0.0057714123472828,
           0.0060436594019098,
           0.0030995160313116,
           0.0070741951890036,
           0.005414615448245,
           0.0049576276284258,
           0.0074711669096024,
           0.0049879070027715,
           0.0097606012018596,
           0.0021721545548862,
           8.222022119368E-4,
           0.0038520658468458,
           0.0095018141125109,
           0.0146125746480766,
           0.0103934730738417,
           0.0102523488166944,
           0.0062013469563475,
           0.0056242414052756,
           0.0088901269504653,
           0.0032210092644819,
           0.0013978058197804,
           8.655502353773E-4,
           0.0069572802538736,
           0.0098799632305793,
           0.0106617071038582,
           0.009042217613848,
           0.0070897895653434,
           0.0076838709589851,
           0.0124655052585657,
           0.0072205223183728,
           0.0188604405993372,
           0.0141008810668169,
           0.021468668756712,
           0.0157886790210778,
           0.0136716497985392,
           0.0164934776921227,
           0.0219778571066071,
           0.0224387771401594,
           0.0076033447753547,
           0.0051428738042601,
           0.0024457643737647,
           0.0020708653026387,
           0.007672037052564,
           0.0068549401383599,
           0.0146998091303406,
           0.0154405370919493,
           0.0088384419738534,
           0.0092011739424466,
           0.0067458289269861,
           0.0090513410773196,
           0.0131297628500713,
           0.0191503059979145,
           0.0130102804621468,
           0.0023999484938365,
           0.0019501275983272,
           0.0061738518823242,
           0.0099205347160917,
           0.004589391710189,
           0.0041721818157842,
           0.0099178060486521
          ],
          "colorbar": {
           "title": {
            "text": "clustering (Mean)"
           }
          },
          "colorscale": [
           [
            0.0,
            "#0d0887"
           ],
           [
            0.1111111111111111,
            "#46039f"
           ],
           [
            0.2222222222222222,
            "#7201a8"
           ],
           [
            0.3333333333333333,
            "#9c179e"
           ],
           [
            0.4444444444444444,
            "#bd3786"
           ],
           [
            0.5555555555555556,
            "#d8576b"
           ],
           [
            0.6666666666666666,
            "#ed7953"
           ],
           [
            0.7777777777777778,
            "#fb9f3a"
           ],
           [
            0.8888888888888888,
            "#fdca26"
           ],
           [
            1.0,
            "#f0f921"
           ]
          ],
          "size": 10
         },
         "mode": "markers+text",
         "name": "Nodes (clustering - Mean)",
         "text": [
          "1",
          "2",
          "3",
          "4",
          "5",
          "6",
          "7",
          "8",
          "9",
          "10",
          "11",
          "12",
          "13",
          "14",
          "15",
          "16",
          "17",
          "18",
          "19",
          "20",
          "21",
          "22",
          "23",
          "24",
          "25",
          "26",
          "27",
          "28",
          "29",
          "30",
          "31",
          "32",
          "33",
          "34",
          "35",
          "36",
          "37",
          "38",
          "39",
          "40",
          "41",
          "42",
          "43",
          "44",
          "45",
          "46",
          "47",
          "48",
          "49",
          "50",
          "51",
          "52",
          "53",
          "54",
          "55",
          "56",
          "57",
          "58",
          "59",
          "60",
          "61",
          "62",
          "63",
          "64",
          "65",
          "66",
          "67",
          "68",
          "69",
          "70",
          "71",
          "72",
          "73",
          "74",
          "75",
          "76",
          "77",
          "78",
          "79",
          "80",
          "81",
          "82",
          "83",
          "84",
          "85",
          "86",
          "87",
          "88",
          "89",
          "90",
          "91",
          "92",
          "93",
          "94",
          "95",
          "96",
          "97",
          "98",
          "99",
          "100",
          "101",
          "102",
          "103",
          "104",
          "105",
          "106",
          "107",
          "108",
          "109",
          "110",
          "111",
          "112",
          "113",
          "114",
          "115",
          "116"
         ],
         "textposition": "top center",
         "x": [
          -38.65,
          41.37,
          -18.45,
          21.9,
          -16.56,
          18.49,
          -33.43,
          37.59,
          -30.65,
          33.18,
          -48.43,
          50.2,
          -45.58,
          50.33,
          -35.98,
          41.22,
          -47.16,
          52.65,
          -5.32,
          8.62,
          -8.06,
          10.43,
          -4.8,
          9.1,
          -5.17,
          8.16,
          -5.08,
          8.35,
          -35.13,
          39.02,
          -4.04,
          8.46,
          -5.48,
          8.02,
          -4.85,
          7.44,
          -25.03,
          29.23,
          -21.17,
          25.38,
          -23.27,
          27.32,
          -7.14,
          15.99,
          -5.93,
          13.51,
          -14.62,
          16.29,
          -16.54,
          24.29,
          -32.39,
          37.39,
          -36.36,
          38.16,
          -31.16,
          33.97,
          -42.46,
          41.43,
          -23.45,
          26.11,
          -42.8,
          46.46,
          -55.79,
          57.61,
          -44.14,
          45.51,
          -7.24,
          9.98,
          -7.63,
          7.48,
          -11.46,
          14.84,
          -23.91,
          27.78,
          -17.75,
          21.2,
          -10.85,
          13.0,
          -41.99,
          45.86,
          -53.16,
          58.15,
          -39.88,
          48.25,
          -55.52,
          57.47,
          -36.32,
          44.22,
          -49.77,
          53.69,
          -36.067,
          37.456,
          -28.636,
          32.057,
          -8.8004,
          12.319,
          -15.004,
          17.199,
          -23.238,
          24.691,
          -32.358,
          33.139,
          -25.751,
          25.064,
          -10.947,
          9.4602,
          -22.614,
          25.995,
          0.75743,
          1.3804,
          1.2207,
          1.1414,
          1.1458,
          1.1521,
          0.86467,
          0.35584
         ],
         "y": [
          -5.68,
          -8.21,
          34.81,
          31.12,
          47.32,
          48.1,
          32.73,
          33.06,
          50.43,
          52.59,
          12.73,
          14.98,
          29.91,
          30.16,
          30.71,
          32.23,
          -8.48,
          -6.25,
          4.85,
          0.17,
          15.05,
          15.91,
          49.17,
          50.84,
          54.06,
          51.67,
          37.07,
          35.64,
          6.65,
          6.25,
          35.4,
          37.01,
          -14.92,
          -8.83,
          -42.92,
          -41.81,
          -20.74,
          -19.78,
          -15.95,
          -15.15,
          -0.67,
          0.64,
          -78.67,
          -73.15,
          -80.13,
          -79.36,
          -67.56,
          -66.93,
          -84.26,
          -80.85,
          -80.73,
          -79.7,
          -78.29,
          -81.99,
          -40.3,
          -39.1,
          -22.63,
          -25.49,
          -59.56,
          -59.18,
          -45.82,
          -46.29,
          -33.64,
          -31.5,
          -60.82,
          -59.98,
          -56.07,
          -56.05,
          -25.36,
          -31.59,
          11.0,
          12.07,
          3.86,
          4.91,
          -0.03,
          0.18,
          -17.56,
          -17.55,
          -18.88,
          -17.15,
          -20.68,
          -21.78,
          15.14,
          14.75,
          -33.8,
          -37.23,
          14.59,
          14.55,
          -28.05,
          -31.07,
          -66.72,
          -67.137,
          -73.26,
          -69.016,
          -37.223,
          -34.466,
          -43.486,
          -42.861,
          -59.101,
          -58.316,
          -59.82,
          -63.178,
          -54.519,
          -56.34,
          -48.95,
          -49.5,
          -33.8,
          -33.838,
          -38.792,
          -39.931,
          -52.362,
          -67.059,
          -71.93,
          -64.429,
          -54.875,
          -45.8
         ],
         "z": [
          50.94,
          52.09,
          42.2,
          43.82,
          -13.31,
          -14.02,
          35.46,
          34.04,
          -9.62,
          -10.73,
          19.02,
          21.41,
          13.99,
          14.17,
          -12.11,
          -11.91,
          13.95,
          14.63,
          61.38,
          61.85,
          -11.46,
          -11.26,
          30.89,
          30.22,
          -7.4,
          -7.13,
          -18.14,
          -18.04,
          3.44,
          2.08,
          13.95,
          15.84,
          41.57,
          39.79,
          24.67,
          21.87,
          -10.13,
          -10.33,
          -20.7,
          -20.47,
          -17.14,
          -17.5,
          6.44,
          9.4,
          27.22,
          28.23,
          -4.63,
          -3.87,
          28.17,
          30.59,
          16.11,
          19.42,
          -7.84,
          -7.61,
          -20.23,
          -20.18,
          48.92,
          52.55,
          58.96,
          62.06,
          46.74,
          49.54,
          30.45,
          34.48,
          35.59,
          38.63,
          48.01,
          43.77,
          70.07,
          68.09,
          9.24,
          9.42,
          2.4,
          2.46,
          0.21,
          0.23,
          7.98,
          8.09,
          9.98,
          10.41,
          7.13,
          6.8,
          -20.18,
          -16.86,
          -2.2,
          -1.47,
          -34.08,
          -32.23,
          -23.17,
          -22.32,
          -28.934,
          -29.547,
          -38.204,
          -39.949,
          -18.581,
          -19.391,
          -16.933,
          -18.151,
          -22.131,
          -23.645,
          -45.449,
          -48.457,
          -47.685,
          -49.468,
          -45.903,
          -46.327,
          -41.765,
          -41.347,
          -20.05,
          -11.398,
          -6.1138,
          -15.123,
          -25.141,
          -34.08,
          -34.896,
          -31.683
         ],
         "type": "scatter3d"
        }
       ],
       "layout": {
        "scene": {
         "xaxis": {
          "title": {
           "text": "X"
          }
         },
         "yaxis": {
          "title": {
           "text": "Y"
          }
         },
         "zaxis": {
          "title": {
           "text": "Z"
          }
         }
        },
        "showlegend": true,
        "title": {
         "text": "Graph Colored by Clustering - Mean"
        },
        "template": {
         "data": {
          "histogram2dcontour": [
           {
            "type": "histogram2dcontour",
            "colorbar": {
             "outlinewidth": 0,
             "ticks": ""
            },
            "colorscale": [
             [
              0.0,
              "#0d0887"
             ],
             [
              0.1111111111111111,
              "#46039f"
             ],
             [
              0.2222222222222222,
              "#7201a8"
             ],
             [
              0.3333333333333333,
              "#9c179e"
             ],
             [
              0.4444444444444444,
              "#bd3786"
             ],
             [
              0.5555555555555556,
              "#d8576b"
             ],
             [
              0.6666666666666666,
              "#ed7953"
             ],
             [
              0.7777777777777778,
              "#fb9f3a"
             ],
             [
              0.8888888888888888,
              "#fdca26"
             ],
             [
              1.0,
              "#f0f921"
             ]
            ]
           }
          ],
          "choropleth": [
           {
            "type": "choropleth",
            "colorbar": {
             "outlinewidth": 0,
             "ticks": ""
            }
           }
          ],
          "histogram2d": [
           {
            "type": "histogram2d",
            "colorbar": {
             "outlinewidth": 0,
             "ticks": ""
            },
            "colorscale": [
             [
              0.0,
              "#0d0887"
             ],
             [
              0.1111111111111111,
              "#46039f"
             ],
             [
              0.2222222222222222,
              "#7201a8"
             ],
             [
              0.3333333333333333,
              "#9c179e"
             ],
             [
              0.4444444444444444,
              "#bd3786"
             ],
             [
              0.5555555555555556,
              "#d8576b"
             ],
             [
              0.6666666666666666,
              "#ed7953"
             ],
             [
              0.7777777777777778,
              "#fb9f3a"
             ],
             [
              0.8888888888888888,
              "#fdca26"
             ],
             [
              1.0,
              "#f0f921"
             ]
            ]
           }
          ],
          "heatmap": [
           {
            "type": "heatmap",
            "colorbar": {
             "outlinewidth": 0,
             "ticks": ""
            },
            "colorscale": [
             [
              0.0,
              "#0d0887"
             ],
             [
              0.1111111111111111,
              "#46039f"
             ],
             [
              0.2222222222222222,
              "#7201a8"
             ],
             [
              0.3333333333333333,
              "#9c179e"
             ],
             [
              0.4444444444444444,
              "#bd3786"
             ],
             [
              0.5555555555555556,
              "#d8576b"
             ],
             [
              0.6666666666666666,
              "#ed7953"
             ],
             [
              0.7777777777777778,
              "#fb9f3a"
             ],
             [
              0.8888888888888888,
              "#fdca26"
             ],
             [
              1.0,
              "#f0f921"
             ]
            ]
           }
          ],
          "heatmapgl": [
           {
            "type": "heatmapgl",
            "colorbar": {
             "outlinewidth": 0,
             "ticks": ""
            },
            "colorscale": [
             [
              0.0,
              "#0d0887"
             ],
             [
              0.1111111111111111,
              "#46039f"
             ],
             [
              0.2222222222222222,
              "#7201a8"
             ],
             [
              0.3333333333333333,
              "#9c179e"
             ],
             [
              0.4444444444444444,
              "#bd3786"
             ],
             [
              0.5555555555555556,
              "#d8576b"
             ],
             [
              0.6666666666666666,
              "#ed7953"
             ],
             [
              0.7777777777777778,
              "#fb9f3a"
             ],
             [
              0.8888888888888888,
              "#fdca26"
             ],
             [
              1.0,
              "#f0f921"
             ]
            ]
           }
          ],
          "contourcarpet": [
           {
            "type": "contourcarpet",
            "colorbar": {
             "outlinewidth": 0,
             "ticks": ""
            }
           }
          ],
          "contour": [
           {
            "type": "contour",
            "colorbar": {
             "outlinewidth": 0,
             "ticks": ""
            },
            "colorscale": [
             [
              0.0,
              "#0d0887"
             ],
             [
              0.1111111111111111,
              "#46039f"
             ],
             [
              0.2222222222222222,
              "#7201a8"
             ],
             [
              0.3333333333333333,
              "#9c179e"
             ],
             [
              0.4444444444444444,
              "#bd3786"
             ],
             [
              0.5555555555555556,
              "#d8576b"
             ],
             [
              0.6666666666666666,
              "#ed7953"
             ],
             [
              0.7777777777777778,
              "#fb9f3a"
             ],
             [
              0.8888888888888888,
              "#fdca26"
             ],
             [
              1.0,
              "#f0f921"
             ]
            ]
           }
          ],
          "surface": [
           {
            "type": "surface",
            "colorbar": {
             "outlinewidth": 0,
             "ticks": ""
            },
            "colorscale": [
             [
              0.0,
              "#0d0887"
             ],
             [
              0.1111111111111111,
              "#46039f"
             ],
             [
              0.2222222222222222,
              "#7201a8"
             ],
             [
              0.3333333333333333,
              "#9c179e"
             ],
             [
              0.4444444444444444,
              "#bd3786"
             ],
             [
              0.5555555555555556,
              "#d8576b"
             ],
             [
              0.6666666666666666,
              "#ed7953"
             ],
             [
              0.7777777777777778,
              "#fb9f3a"
             ],
             [
              0.8888888888888888,
              "#fdca26"
             ],
             [
              1.0,
              "#f0f921"
             ]
            ]
           }
          ],
          "mesh3d": [
           {
            "type": "mesh3d",
            "colorbar": {
             "outlinewidth": 0,
             "ticks": ""
            }
           }
          ],
          "scatter": [
           {
            "marker": {
             "line": {
              "color": "#283442"
             }
            },
            "type": "scatter"
           }
          ],
          "parcoords": [
           {
            "type": "parcoords",
            "line": {
             "colorbar": {
              "outlinewidth": 0,
              "ticks": ""
             }
            }
           }
          ],
          "scatterpolargl": [
           {
            "type": "scatterpolargl",
            "marker": {
             "colorbar": {
              "outlinewidth": 0,
              "ticks": ""
             }
            }
           }
          ],
          "bar": [
           {
            "error_x": {
             "color": "#f2f5fa"
            },
            "error_y": {
             "color": "#f2f5fa"
            },
            "marker": {
             "line": {
              "color": "rgb(17,17,17)",
              "width": 0.5
             },
             "pattern": {
              "fillmode": "overlay",
              "size": 10,
              "solidity": 0.2
             }
            },
            "type": "bar"
           }
          ],
          "scattergeo": [
           {
            "type": "scattergeo",
            "marker": {
             "colorbar": {
              "outlinewidth": 0,
              "ticks": ""
             }
            }
           }
          ],
          "scatterpolar": [
           {
            "type": "scatterpolar",
            "marker": {
             "colorbar": {
              "outlinewidth": 0,
              "ticks": ""
             }
            }
           }
          ],
          "histogram": [
           {
            "marker": {
             "pattern": {
              "fillmode": "overlay",
              "size": 10,
              "solidity": 0.2
             }
            },
            "type": "histogram"
           }
          ],
          "scattergl": [
           {
            "marker": {
             "line": {
              "color": "#283442"
             }
            },
            "type": "scattergl"
           }
          ],
          "scatter3d": [
           {
            "type": "scatter3d",
            "line": {
             "colorbar": {
              "outlinewidth": 0,
              "ticks": ""
             }
            },
            "marker": {
             "colorbar": {
              "outlinewidth": 0,
              "ticks": ""
             }
            }
           }
          ],
          "scattermapbox": [
           {
            "type": "scattermapbox",
            "marker": {
             "colorbar": {
              "outlinewidth": 0,
              "ticks": ""
             }
            }
           }
          ],
          "scatterternary": [
           {
            "type": "scatterternary",
            "marker": {
             "colorbar": {
              "outlinewidth": 0,
              "ticks": ""
             }
            }
           }
          ],
          "scattercarpet": [
           {
            "type": "scattercarpet",
            "marker": {
             "colorbar": {
              "outlinewidth": 0,
              "ticks": ""
             }
            }
           }
          ],
          "carpet": [
           {
            "aaxis": {
             "endlinecolor": "#A2B1C6",
             "gridcolor": "#506784",
             "linecolor": "#506784",
             "minorgridcolor": "#506784",
             "startlinecolor": "#A2B1C6"
            },
            "baxis": {
             "endlinecolor": "#A2B1C6",
             "gridcolor": "#506784",
             "linecolor": "#506784",
             "minorgridcolor": "#506784",
             "startlinecolor": "#A2B1C6"
            },
            "type": "carpet"
           }
          ],
          "table": [
           {
            "cells": {
             "fill": {
              "color": "#506784"
             },
             "line": {
              "color": "rgb(17,17,17)"
             }
            },
            "header": {
             "fill": {
              "color": "#2a3f5f"
             },
             "line": {
              "color": "rgb(17,17,17)"
             }
            },
            "type": "table"
           }
          ],
          "barpolar": [
           {
            "marker": {
             "line": {
              "color": "rgb(17,17,17)",
              "width": 0.5
             },
             "pattern": {
              "fillmode": "overlay",
              "size": 10,
              "solidity": 0.2
             }
            },
            "type": "barpolar"
           }
          ],
          "pie": [
           {
            "automargin": true,
            "type": "pie"
           }
          ]
         },
         "layout": {
          "autotypenumbers": "strict",
          "colorway": [
           "#636efa",
           "#EF553B",
           "#00cc96",
           "#ab63fa",
           "#FFA15A",
           "#19d3f3",
           "#FF6692",
           "#B6E880",
           "#FF97FF",
           "#FECB52"
          ],
          "font": {
           "color": "#f2f5fa"
          },
          "hovermode": "closest",
          "hoverlabel": {
           "align": "left"
          },
          "paper_bgcolor": "rgb(17,17,17)",
          "plot_bgcolor": "rgb(17,17,17)",
          "polar": {
           "bgcolor": "rgb(17,17,17)",
           "angularaxis": {
            "gridcolor": "#506784",
            "linecolor": "#506784",
            "ticks": ""
           },
           "radialaxis": {
            "gridcolor": "#506784",
            "linecolor": "#506784",
            "ticks": ""
           }
          },
          "ternary": {
           "bgcolor": "rgb(17,17,17)",
           "aaxis": {
            "gridcolor": "#506784",
            "linecolor": "#506784",
            "ticks": ""
           },
           "baxis": {
            "gridcolor": "#506784",
            "linecolor": "#506784",
            "ticks": ""
           },
           "caxis": {
            "gridcolor": "#506784",
            "linecolor": "#506784",
            "ticks": ""
           }
          },
          "coloraxis": {
           "colorbar": {
            "outlinewidth": 0,
            "ticks": ""
           }
          },
          "colorscale": {
           "sequential": [
            [
             0.0,
             "#0d0887"
            ],
            [
             0.1111111111111111,
             "#46039f"
            ],
            [
             0.2222222222222222,
             "#7201a8"
            ],
            [
             0.3333333333333333,
             "#9c179e"
            ],
            [
             0.4444444444444444,
             "#bd3786"
            ],
            [
             0.5555555555555556,
             "#d8576b"
            ],
            [
             0.6666666666666666,
             "#ed7953"
            ],
            [
             0.7777777777777778,
             "#fb9f3a"
            ],
            [
             0.8888888888888888,
             "#fdca26"
            ],
            [
             1.0,
             "#f0f921"
            ]
           ],
           "sequentialminus": [
            [
             0.0,
             "#0d0887"
            ],
            [
             0.1111111111111111,
             "#46039f"
            ],
            [
             0.2222222222222222,
             "#7201a8"
            ],
            [
             0.3333333333333333,
             "#9c179e"
            ],
            [
             0.4444444444444444,
             "#bd3786"
            ],
            [
             0.5555555555555556,
             "#d8576b"
            ],
            [
             0.6666666666666666,
             "#ed7953"
            ],
            [
             0.7777777777777778,
             "#fb9f3a"
            ],
            [
             0.8888888888888888,
             "#fdca26"
            ],
            [
             1.0,
             "#f0f921"
            ]
           ],
           "diverging": [
            [
             0,
             "#8e0152"
            ],
            [
             0.1,
             "#c51b7d"
            ],
            [
             0.2,
             "#de77ae"
            ],
            [
             0.3,
             "#f1b6da"
            ],
            [
             0.4,
             "#fde0ef"
            ],
            [
             0.5,
             "#f7f7f7"
            ],
            [
             0.6,
             "#e6f5d0"
            ],
            [
             0.7,
             "#b8e186"
            ],
            [
             0.8,
             "#7fbc41"
            ],
            [
             0.9,
             "#4d9221"
            ],
            [
             1,
             "#276419"
            ]
           ]
          },
          "xaxis": {
           "gridcolor": "#283442",
           "linecolor": "#506784",
           "ticks": "",
           "title": {
            "standoff": 15
           },
           "zerolinecolor": "#283442",
           "automargin": true,
           "zerolinewidth": 2
          },
          "yaxis": {
           "gridcolor": "#283442",
           "linecolor": "#506784",
           "ticks": "",
           "title": {
            "standoff": 15
           },
           "zerolinecolor": "#283442",
           "automargin": true,
           "zerolinewidth": 2
          },
          "scene": {
           "xaxis": {
            "backgroundcolor": "rgb(17,17,17)",
            "gridcolor": "#506784",
            "linecolor": "#506784",
            "showbackground": true,
            "ticks": "",
            "zerolinecolor": "#C8D4E3",
            "gridwidth": 2
           },
           "yaxis": {
            "backgroundcolor": "rgb(17,17,17)",
            "gridcolor": "#506784",
            "linecolor": "#506784",
            "showbackground": true,
            "ticks": "",
            "zerolinecolor": "#C8D4E3",
            "gridwidth": 2
           },
           "zaxis": {
            "backgroundcolor": "rgb(17,17,17)",
            "gridcolor": "#506784",
            "linecolor": "#506784",
            "showbackground": true,
            "ticks": "",
            "zerolinecolor": "#C8D4E3",
            "gridwidth": 2
           }
          },
          "shapedefaults": {
           "line": {
            "color": "#f2f5fa"
           }
          },
          "annotationdefaults": {
           "arrowcolor": "#f2f5fa",
           "arrowhead": 0,
           "arrowwidth": 1
          },
          "geo": {
           "bgcolor": "rgb(17,17,17)",
           "landcolor": "rgb(17,17,17)",
           "subunitcolor": "#506784",
           "showland": true,
           "showlakes": true,
           "lakecolor": "rgb(17,17,17)"
          },
          "title": {
           "x": 0.05
          },
          "updatemenudefaults": {
           "bgcolor": "#506784",
           "borderwidth": 0
          },
          "sliderdefaults": {
           "bgcolor": "#C8D4E3",
           "borderwidth": 1,
           "bordercolor": "rgb(17,17,17)",
           "tickwidth": 0
          },
          "mapbox": {
           "style": "dark"
          }
         }
        }
       },
       "config": {
        "plotlyServerURL": "https://plot.ly"
       }
      },
      "text/html": [
       "<div>                            <div id=\"9b53ed3b-7222-4092-a081-2d8acb503d21\" class=\"plotly-graph-div\" style=\"height:525px; width:100%;\"></div>            <script type=\"text/javascript\">                require([\"plotly\"], function(Plotly) {                    window.PLOTLYENV=window.PLOTLYENV || {};                                    if (document.getElementById(\"9b53ed3b-7222-4092-a081-2d8acb503d21\")) {                    Plotly.newPlot(                        \"9b53ed3b-7222-4092-a081-2d8acb503d21\",                        [{\"line\":{\"color\":\"black\",\"width\":2},\"mode\":\"lines\",\"name\":\"Edges\",\"x\":[],\"y\":[],\"z\":[],\"type\":\"scatter3d\"},{\"marker\":{\"color\":[0.013786692732771,0.0113385835191656,0.0119756479545167,0.0113556710538156,0.0119844654346172,0.0128464502603736,0.0106266902887567,0.0112897594128936,0.0088482242675921,0.0097161121309182,0.0151270339694024,0.0114632290833526,0.0133668965867613,0.0132434871003429,0.0040821760831217,0.0057733955434967,0.0071651342772054,0.008335963940724,0.0163980836245605,0.0165176220482627,0.009966729186562,0.0086328463856086,0.0158212831582034,0.0140320138999086,0.0067855372700272,0.0035282531037004,0.0174855615329557,0.0149802817974328,0.0086875300494934,0.0052532254101974,0.0069897262375242,0.0107308548993363,0.0074166917601043,0.0088653763050899,0.001166226743149,0.0017457469372768,0.0084143720360839,0.0075496859613659,0.0123354130121926,0.0171779605089591,0.0098725015833195,0.0067522600123343,0.0029507910938016,0.002150762950202,0.001464489985917,0.0024803224340305,0.002561795197539,0.0002282758121686,0.0019473591487529,0.0018699541245278,0.0001275879499416,0.0026557284780128,0.0143958061299285,0.0137376991368085,0.016991677444702,0.0089130559791384,0.0057714123472828,0.0060436594019098,0.0030995160313116,0.0070741951890036,0.005414615448245,0.0049576276284258,0.0074711669096024,0.0049879070027715,0.0097606012018596,0.0021721545548862,0.0008222022119368,0.0038520658468458,0.0095018141125109,0.0146125746480766,0.0103934730738417,0.0102523488166944,0.0062013469563475,0.0056242414052756,0.0088901269504653,0.0032210092644819,0.0013978058197804,0.0008655502353773,0.0069572802538736,0.0098799632305793,0.0106617071038582,0.009042217613848,0.0070897895653434,0.0076838709589851,0.0124655052585657,0.0072205223183728,0.0188604405993372,0.0141008810668169,0.021468668756712,0.0157886790210778,0.0136716497985392,0.0164934776921227,0.0219778571066071,0.0224387771401594,0.0076033447753547,0.0051428738042601,0.0024457643737647,0.0020708653026387,0.007672037052564,0.0068549401383599,0.0146998091303406,0.0154405370919493,0.0088384419738534,0.0092011739424466,0.0067458289269861,0.0090513410773196,0.0131297628500713,0.0191503059979145,0.0130102804621468,0.0023999484938365,0.0019501275983272,0.0061738518823242,0.0099205347160917,0.004589391710189,0.0041721818157842,0.0099178060486521],\"colorbar\":{\"title\":{\"text\":\"clustering (Mean)\"}},\"colorscale\":[[0.0,\"#0d0887\"],[0.1111111111111111,\"#46039f\"],[0.2222222222222222,\"#7201a8\"],[0.3333333333333333,\"#9c179e\"],[0.4444444444444444,\"#bd3786\"],[0.5555555555555556,\"#d8576b\"],[0.6666666666666666,\"#ed7953\"],[0.7777777777777778,\"#fb9f3a\"],[0.8888888888888888,\"#fdca26\"],[1.0,\"#f0f921\"]],\"size\":10},\"mode\":\"markers+text\",\"name\":\"Nodes (clustering - Mean)\",\"text\":[\"1\",\"2\",\"3\",\"4\",\"5\",\"6\",\"7\",\"8\",\"9\",\"10\",\"11\",\"12\",\"13\",\"14\",\"15\",\"16\",\"17\",\"18\",\"19\",\"20\",\"21\",\"22\",\"23\",\"24\",\"25\",\"26\",\"27\",\"28\",\"29\",\"30\",\"31\",\"32\",\"33\",\"34\",\"35\",\"36\",\"37\",\"38\",\"39\",\"40\",\"41\",\"42\",\"43\",\"44\",\"45\",\"46\",\"47\",\"48\",\"49\",\"50\",\"51\",\"52\",\"53\",\"54\",\"55\",\"56\",\"57\",\"58\",\"59\",\"60\",\"61\",\"62\",\"63\",\"64\",\"65\",\"66\",\"67\",\"68\",\"69\",\"70\",\"71\",\"72\",\"73\",\"74\",\"75\",\"76\",\"77\",\"78\",\"79\",\"80\",\"81\",\"82\",\"83\",\"84\",\"85\",\"86\",\"87\",\"88\",\"89\",\"90\",\"91\",\"92\",\"93\",\"94\",\"95\",\"96\",\"97\",\"98\",\"99\",\"100\",\"101\",\"102\",\"103\",\"104\",\"105\",\"106\",\"107\",\"108\",\"109\",\"110\",\"111\",\"112\",\"113\",\"114\",\"115\",\"116\"],\"textposition\":\"top center\",\"x\":[-38.65,41.37,-18.45,21.9,-16.56,18.49,-33.43,37.59,-30.65,33.18,-48.43,50.2,-45.58,50.33,-35.98,41.22,-47.16,52.65,-5.32,8.62,-8.06,10.43,-4.8,9.1,-5.17,8.16,-5.08,8.35,-35.13,39.02,-4.04,8.46,-5.48,8.02,-4.85,7.44,-25.03,29.23,-21.17,25.38,-23.27,27.32,-7.14,15.99,-5.93,13.51,-14.62,16.29,-16.54,24.29,-32.39,37.39,-36.36,38.16,-31.16,33.97,-42.46,41.43,-23.45,26.11,-42.8,46.46,-55.79,57.61,-44.14,45.51,-7.24,9.98,-7.63,7.48,-11.46,14.84,-23.91,27.78,-17.75,21.2,-10.85,13.0,-41.99,45.86,-53.16,58.15,-39.88,48.25,-55.52,57.47,-36.32,44.22,-49.77,53.69,-36.067,37.456,-28.636,32.057,-8.8004,12.319,-15.004,17.199,-23.238,24.691,-32.358,33.139,-25.751,25.064,-10.947,9.4602,-22.614,25.995,0.75743,1.3804,1.2207,1.1414,1.1458,1.1521,0.86467,0.35584],\"y\":[-5.68,-8.21,34.81,31.12,47.32,48.1,32.73,33.06,50.43,52.59,12.73,14.98,29.91,30.16,30.71,32.23,-8.48,-6.25,4.85,0.17,15.05,15.91,49.17,50.84,54.06,51.67,37.07,35.64,6.65,6.25,35.4,37.01,-14.92,-8.83,-42.92,-41.81,-20.74,-19.78,-15.95,-15.15,-0.67,0.64,-78.67,-73.15,-80.13,-79.36,-67.56,-66.93,-84.26,-80.85,-80.73,-79.7,-78.29,-81.99,-40.3,-39.1,-22.63,-25.49,-59.56,-59.18,-45.82,-46.29,-33.64,-31.5,-60.82,-59.98,-56.07,-56.05,-25.36,-31.59,11.0,12.07,3.86,4.91,-0.03,0.18,-17.56,-17.55,-18.88,-17.15,-20.68,-21.78,15.14,14.75,-33.8,-37.23,14.59,14.55,-28.05,-31.07,-66.72,-67.137,-73.26,-69.016,-37.223,-34.466,-43.486,-42.861,-59.101,-58.316,-59.82,-63.178,-54.519,-56.34,-48.95,-49.5,-33.8,-33.838,-38.792,-39.931,-52.362,-67.059,-71.93,-64.429,-54.875,-45.8],\"z\":[50.94,52.09,42.2,43.82,-13.31,-14.02,35.46,34.04,-9.62,-10.73,19.02,21.41,13.99,14.17,-12.11,-11.91,13.95,14.63,61.38,61.85,-11.46,-11.26,30.89,30.22,-7.4,-7.13,-18.14,-18.04,3.44,2.08,13.95,15.84,41.57,39.79,24.67,21.87,-10.13,-10.33,-20.7,-20.47,-17.14,-17.5,6.44,9.4,27.22,28.23,-4.63,-3.87,28.17,30.59,16.11,19.42,-7.84,-7.61,-20.23,-20.18,48.92,52.55,58.96,62.06,46.74,49.54,30.45,34.48,35.59,38.63,48.01,43.77,70.07,68.09,9.24,9.42,2.4,2.46,0.21,0.23,7.98,8.09,9.98,10.41,7.13,6.8,-20.18,-16.86,-2.2,-1.47,-34.08,-32.23,-23.17,-22.32,-28.934,-29.547,-38.204,-39.949,-18.581,-19.391,-16.933,-18.151,-22.131,-23.645,-45.449,-48.457,-47.685,-49.468,-45.903,-46.327,-41.765,-41.347,-20.05,-11.398,-6.1138,-15.123,-25.141,-34.08,-34.896,-31.683],\"type\":\"scatter3d\"}],                        {\"scene\":{\"xaxis\":{\"title\":{\"text\":\"X\"}},\"yaxis\":{\"title\":{\"text\":\"Y\"}},\"zaxis\":{\"title\":{\"text\":\"Z\"}}},\"showlegend\":true,\"title\":{\"text\":\"Graph Colored by Clustering - Mean\"},\"template\":{\"data\":{\"histogram2dcontour\":[{\"type\":\"histogram2dcontour\",\"colorbar\":{\"outlinewidth\":0,\"ticks\":\"\"},\"colorscale\":[[0.0,\"#0d0887\"],[0.1111111111111111,\"#46039f\"],[0.2222222222222222,\"#7201a8\"],[0.3333333333333333,\"#9c179e\"],[0.4444444444444444,\"#bd3786\"],[0.5555555555555556,\"#d8576b\"],[0.6666666666666666,\"#ed7953\"],[0.7777777777777778,\"#fb9f3a\"],[0.8888888888888888,\"#fdca26\"],[1.0,\"#f0f921\"]]}],\"choropleth\":[{\"type\":\"choropleth\",\"colorbar\":{\"outlinewidth\":0,\"ticks\":\"\"}}],\"histogram2d\":[{\"type\":\"histogram2d\",\"colorbar\":{\"outlinewidth\":0,\"ticks\":\"\"},\"colorscale\":[[0.0,\"#0d0887\"],[0.1111111111111111,\"#46039f\"],[0.2222222222222222,\"#7201a8\"],[0.3333333333333333,\"#9c179e\"],[0.4444444444444444,\"#bd3786\"],[0.5555555555555556,\"#d8576b\"],[0.6666666666666666,\"#ed7953\"],[0.7777777777777778,\"#fb9f3a\"],[0.8888888888888888,\"#fdca26\"],[1.0,\"#f0f921\"]]}],\"heatmap\":[{\"type\":\"heatmap\",\"colorbar\":{\"outlinewidth\":0,\"ticks\":\"\"},\"colorscale\":[[0.0,\"#0d0887\"],[0.1111111111111111,\"#46039f\"],[0.2222222222222222,\"#7201a8\"],[0.3333333333333333,\"#9c179e\"],[0.4444444444444444,\"#bd3786\"],[0.5555555555555556,\"#d8576b\"],[0.6666666666666666,\"#ed7953\"],[0.7777777777777778,\"#fb9f3a\"],[0.8888888888888888,\"#fdca26\"],[1.0,\"#f0f921\"]]}],\"heatmapgl\":[{\"type\":\"heatmapgl\",\"colorbar\":{\"outlinewidth\":0,\"ticks\":\"\"},\"colorscale\":[[0.0,\"#0d0887\"],[0.1111111111111111,\"#46039f\"],[0.2222222222222222,\"#7201a8\"],[0.3333333333333333,\"#9c179e\"],[0.4444444444444444,\"#bd3786\"],[0.5555555555555556,\"#d8576b\"],[0.6666666666666666,\"#ed7953\"],[0.7777777777777778,\"#fb9f3a\"],[0.8888888888888888,\"#fdca26\"],[1.0,\"#f0f921\"]]}],\"contourcarpet\":[{\"type\":\"contourcarpet\",\"colorbar\":{\"outlinewidth\":0,\"ticks\":\"\"}}],\"contour\":[{\"type\":\"contour\",\"colorbar\":{\"outlinewidth\":0,\"ticks\":\"\"},\"colorscale\":[[0.0,\"#0d0887\"],[0.1111111111111111,\"#46039f\"],[0.2222222222222222,\"#7201a8\"],[0.3333333333333333,\"#9c179e\"],[0.4444444444444444,\"#bd3786\"],[0.5555555555555556,\"#d8576b\"],[0.6666666666666666,\"#ed7953\"],[0.7777777777777778,\"#fb9f3a\"],[0.8888888888888888,\"#fdca26\"],[1.0,\"#f0f921\"]]}],\"surface\":[{\"type\":\"surface\",\"colorbar\":{\"outlinewidth\":0,\"ticks\":\"\"},\"colorscale\":[[0.0,\"#0d0887\"],[0.1111111111111111,\"#46039f\"],[0.2222222222222222,\"#7201a8\"],[0.3333333333333333,\"#9c179e\"],[0.4444444444444444,\"#bd3786\"],[0.5555555555555556,\"#d8576b\"],[0.6666666666666666,\"#ed7953\"],[0.7777777777777778,\"#fb9f3a\"],[0.8888888888888888,\"#fdca26\"],[1.0,\"#f0f921\"]]}],\"mesh3d\":[{\"type\":\"mesh3d\",\"colorbar\":{\"outlinewidth\":0,\"ticks\":\"\"}}],\"scatter\":[{\"marker\":{\"line\":{\"color\":\"#283442\"}},\"type\":\"scatter\"}],\"parcoords\":[{\"type\":\"parcoords\",\"line\":{\"colorbar\":{\"outlinewidth\":0,\"ticks\":\"\"}}}],\"scatterpolargl\":[{\"type\":\"scatterpolargl\",\"marker\":{\"colorbar\":{\"outlinewidth\":0,\"ticks\":\"\"}}}],\"bar\":[{\"error_x\":{\"color\":\"#f2f5fa\"},\"error_y\":{\"color\":\"#f2f5fa\"},\"marker\":{\"line\":{\"color\":\"rgb(17,17,17)\",\"width\":0.5},\"pattern\":{\"fillmode\":\"overlay\",\"size\":10,\"solidity\":0.2}},\"type\":\"bar\"}],\"scattergeo\":[{\"type\":\"scattergeo\",\"marker\":{\"colorbar\":{\"outlinewidth\":0,\"ticks\":\"\"}}}],\"scatterpolar\":[{\"type\":\"scatterpolar\",\"marker\":{\"colorbar\":{\"outlinewidth\":0,\"ticks\":\"\"}}}],\"histogram\":[{\"marker\":{\"pattern\":{\"fillmode\":\"overlay\",\"size\":10,\"solidity\":0.2}},\"type\":\"histogram\"}],\"scattergl\":[{\"marker\":{\"line\":{\"color\":\"#283442\"}},\"type\":\"scattergl\"}],\"scatter3d\":[{\"type\":\"scatter3d\",\"line\":{\"colorbar\":{\"outlinewidth\":0,\"ticks\":\"\"}},\"marker\":{\"colorbar\":{\"outlinewidth\":0,\"ticks\":\"\"}}}],\"scattermapbox\":[{\"type\":\"scattermapbox\",\"marker\":{\"colorbar\":{\"outlinewidth\":0,\"ticks\":\"\"}}}],\"scatterternary\":[{\"type\":\"scatterternary\",\"marker\":{\"colorbar\":{\"outlinewidth\":0,\"ticks\":\"\"}}}],\"scattercarpet\":[{\"type\":\"scattercarpet\",\"marker\":{\"colorbar\":{\"outlinewidth\":0,\"ticks\":\"\"}}}],\"carpet\":[{\"aaxis\":{\"endlinecolor\":\"#A2B1C6\",\"gridcolor\":\"#506784\",\"linecolor\":\"#506784\",\"minorgridcolor\":\"#506784\",\"startlinecolor\":\"#A2B1C6\"},\"baxis\":{\"endlinecolor\":\"#A2B1C6\",\"gridcolor\":\"#506784\",\"linecolor\":\"#506784\",\"minorgridcolor\":\"#506784\",\"startlinecolor\":\"#A2B1C6\"},\"type\":\"carpet\"}],\"table\":[{\"cells\":{\"fill\":{\"color\":\"#506784\"},\"line\":{\"color\":\"rgb(17,17,17)\"}},\"header\":{\"fill\":{\"color\":\"#2a3f5f\"},\"line\":{\"color\":\"rgb(17,17,17)\"}},\"type\":\"table\"}],\"barpolar\":[{\"marker\":{\"line\":{\"color\":\"rgb(17,17,17)\",\"width\":0.5},\"pattern\":{\"fillmode\":\"overlay\",\"size\":10,\"solidity\":0.2}},\"type\":\"barpolar\"}],\"pie\":[{\"automargin\":true,\"type\":\"pie\"}]},\"layout\":{\"autotypenumbers\":\"strict\",\"colorway\":[\"#636efa\",\"#EF553B\",\"#00cc96\",\"#ab63fa\",\"#FFA15A\",\"#19d3f3\",\"#FF6692\",\"#B6E880\",\"#FF97FF\",\"#FECB52\"],\"font\":{\"color\":\"#f2f5fa\"},\"hovermode\":\"closest\",\"hoverlabel\":{\"align\":\"left\"},\"paper_bgcolor\":\"rgb(17,17,17)\",\"plot_bgcolor\":\"rgb(17,17,17)\",\"polar\":{\"bgcolor\":\"rgb(17,17,17)\",\"angularaxis\":{\"gridcolor\":\"#506784\",\"linecolor\":\"#506784\",\"ticks\":\"\"},\"radialaxis\":{\"gridcolor\":\"#506784\",\"linecolor\":\"#506784\",\"ticks\":\"\"}},\"ternary\":{\"bgcolor\":\"rgb(17,17,17)\",\"aaxis\":{\"gridcolor\":\"#506784\",\"linecolor\":\"#506784\",\"ticks\":\"\"},\"baxis\":{\"gridcolor\":\"#506784\",\"linecolor\":\"#506784\",\"ticks\":\"\"},\"caxis\":{\"gridcolor\":\"#506784\",\"linecolor\":\"#506784\",\"ticks\":\"\"}},\"coloraxis\":{\"colorbar\":{\"outlinewidth\":0,\"ticks\":\"\"}},\"colorscale\":{\"sequential\":[[0.0,\"#0d0887\"],[0.1111111111111111,\"#46039f\"],[0.2222222222222222,\"#7201a8\"],[0.3333333333333333,\"#9c179e\"],[0.4444444444444444,\"#bd3786\"],[0.5555555555555556,\"#d8576b\"],[0.6666666666666666,\"#ed7953\"],[0.7777777777777778,\"#fb9f3a\"],[0.8888888888888888,\"#fdca26\"],[1.0,\"#f0f921\"]],\"sequentialminus\":[[0.0,\"#0d0887\"],[0.1111111111111111,\"#46039f\"],[0.2222222222222222,\"#7201a8\"],[0.3333333333333333,\"#9c179e\"],[0.4444444444444444,\"#bd3786\"],[0.5555555555555556,\"#d8576b\"],[0.6666666666666666,\"#ed7953\"],[0.7777777777777778,\"#fb9f3a\"],[0.8888888888888888,\"#fdca26\"],[1.0,\"#f0f921\"]],\"diverging\":[[0,\"#8e0152\"],[0.1,\"#c51b7d\"],[0.2,\"#de77ae\"],[0.3,\"#f1b6da\"],[0.4,\"#fde0ef\"],[0.5,\"#f7f7f7\"],[0.6,\"#e6f5d0\"],[0.7,\"#b8e186\"],[0.8,\"#7fbc41\"],[0.9,\"#4d9221\"],[1,\"#276419\"]]},\"xaxis\":{\"gridcolor\":\"#283442\",\"linecolor\":\"#506784\",\"ticks\":\"\",\"title\":{\"standoff\":15},\"zerolinecolor\":\"#283442\",\"automargin\":true,\"zerolinewidth\":2},\"yaxis\":{\"gridcolor\":\"#283442\",\"linecolor\":\"#506784\",\"ticks\":\"\",\"title\":{\"standoff\":15},\"zerolinecolor\":\"#283442\",\"automargin\":true,\"zerolinewidth\":2},\"scene\":{\"xaxis\":{\"backgroundcolor\":\"rgb(17,17,17)\",\"gridcolor\":\"#506784\",\"linecolor\":\"#506784\",\"showbackground\":true,\"ticks\":\"\",\"zerolinecolor\":\"#C8D4E3\",\"gridwidth\":2},\"yaxis\":{\"backgroundcolor\":\"rgb(17,17,17)\",\"gridcolor\":\"#506784\",\"linecolor\":\"#506784\",\"showbackground\":true,\"ticks\":\"\",\"zerolinecolor\":\"#C8D4E3\",\"gridwidth\":2},\"zaxis\":{\"backgroundcolor\":\"rgb(17,17,17)\",\"gridcolor\":\"#506784\",\"linecolor\":\"#506784\",\"showbackground\":true,\"ticks\":\"\",\"zerolinecolor\":\"#C8D4E3\",\"gridwidth\":2}},\"shapedefaults\":{\"line\":{\"color\":\"#f2f5fa\"}},\"annotationdefaults\":{\"arrowcolor\":\"#f2f5fa\",\"arrowhead\":0,\"arrowwidth\":1},\"geo\":{\"bgcolor\":\"rgb(17,17,17)\",\"landcolor\":\"rgb(17,17,17)\",\"subunitcolor\":\"#506784\",\"showland\":true,\"showlakes\":true,\"lakecolor\":\"rgb(17,17,17)\"},\"title\":{\"x\":0.05},\"updatemenudefaults\":{\"bgcolor\":\"#506784\",\"borderwidth\":0},\"sliderdefaults\":{\"bgcolor\":\"#C8D4E3\",\"borderwidth\":1,\"bordercolor\":\"rgb(17,17,17)\",\"tickwidth\":0},\"mapbox\":{\"style\":\"dark\"}}}},                        {\"responsive\": true}                    ).then(function(){\n",
       "                            \n",
       "var gd = document.getElementById('9b53ed3b-7222-4092-a081-2d8acb503d21');\n",
       "var x = new MutationObserver(function (mutations, observer) {{\n",
       "        var display = window.getComputedStyle(gd).display;\n",
       "        if (!display || display === 'none') {{\n",
       "            console.log([gd, 'removed!']);\n",
       "            Plotly.purge(gd);\n",
       "            observer.disconnect();\n",
       "        }}\n",
       "}});\n",
       "\n",
       "// Listen for the removal of the full notebook cells\n",
       "var notebookContainer = gd.closest('#notebook-container');\n",
       "if (notebookContainer) {{\n",
       "    x.observe(notebookContainer, {childList: true});\n",
       "}}\n",
       "\n",
       "// Listen for the clearing of the current output cell\n",
       "var outputEl = gd.closest('.output');\n",
       "if (outputEl) {{\n",
       "    x.observe(outputEl, {childList: true});\n",
       "}}\n",
       "\n",
       "                        })                };                });            </script>        </div>"
      ]
     },
     "metadata": {},
     "output_type": "display_data"
    }
   ],
   "execution_count": 6
  }
 ],
 "metadata": {
  "kernelspec": {
   "display_name": "Python 3",
   "language": "python",
   "name": "python3"
  },
  "language_info": {
   "codemirror_mode": {
    "name": "ipython",
    "version": 2
   },
   "file_extension": ".py",
   "mimetype": "text/x-python",
   "name": "python",
   "nbconvert_exporter": "python",
   "pygments_lexer": "ipython2",
   "version": "2.7.6"
  }
 },
 "nbformat": 4,
 "nbformat_minor": 5
}
